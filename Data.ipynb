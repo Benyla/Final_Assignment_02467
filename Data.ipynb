{
 "cells": [
  {
   "cell_type": "code",
   "execution_count": null,
   "id": "02c56814",
   "metadata": {},
   "outputs": [
    {
     "name": "stderr",
     "output_type": "stream",
     "text": [
      "Processing artists:   0%|          | 0/1 [00:00<?, ?it/s]"
     ]
    },
    {
     "name": "stdout",
     "output_type": "stream",
     "text": [
      "Collecting top tracks for Taylor Swift...\n",
      "Non-English lyrics for Fortnight (feat. Post Malone) by Taylor Swift, retrying with 'English' hint...\n",
      "Found English lyrics for Fortnight (feat. Post Malone) by Taylor Swift on retry.\n",
      "Non-English lyrics for exile (feat. Bon Iver) by Taylor Swift, retrying with 'English' hint...\n",
      "Found English lyrics for exile (feat. Bon Iver) by Taylor Swift on retry.\n"
     ]
    },
    {
     "name": "stderr",
     "output_type": "stream",
     "text": [
      "Processing artists: 100%|██████████| 1/1 [04:19<00:00, 259.89s/it]"
     ]
    },
    {
     "name": "stdout",
     "output_type": "stream",
     "text": [
      "Data collection complete. Here's a preview:\n",
      "                      song_title                    artists release_date  \\\n",
      "0                   Cruel Summer               Taylor Swift   2019-08-23   \n",
      "1                          Lover               Taylor Swift   2019-08-23   \n",
      "2                       cardigan               Taylor Swift   2020-07-24   \n",
      "3  Fortnight (feat. Post Malone)  Taylor Swift, Post Malone   2024-04-18   \n",
      "4                         august               Taylor Swift   2020-07-24   \n",
      "\n",
      "   popularity  is_collaboration  duration_seconds              spotify_id  \\\n",
      "0          90             False           178.426  1BxfuPKGuaTgP7aM0Bbdwr   \n",
      "1          86             False           221.306  1dGr1c8CrMLDpV6mPbImSI   \n",
      "2          86             False           239.560  4R2kfaDFhslZEMJqAFNpdd   \n",
      "3          85              True           228.965  2OzhQlSqBEmt7hmkYxfT6m   \n",
      "4          85             False           261.922  3hUxzQpSfdDqwM3ZTFQY0K   \n",
      "\n",
      "                                              lyrics  \n",
      "0  (Yeah, yeah, yeah, yeah) Fever dream high in t...  \n",
      "1  We could leave the Christmas lights up 'til Ja...  \n",
      "2  Vintage tee, brand new phone High heels on cob...  \n",
      "3  I was supposed to be sent away But they forgot...  \n",
      "4  Salt air, and the rust on your door I never ne...  \n"
     ]
    },
    {
     "name": "stderr",
     "output_type": "stream",
     "text": [
      "\n"
     ]
    }
   ],
   "source": [
    "import spotipy\n",
    "from spotipy.oauth2 import SpotifyClientCredentials\n",
    "import lyricsgenius\n",
    "import pandas as pd\n",
    "import time\n",
    "from langdetect import detect\n",
    "from pop_artists import top_pop_artists\n",
    "from utils import get_english_lyrics, get_top_tracks_for_artist\n",
    "from tqdm import tqdm\n",
    "\n",
    "\n",
    "# ------------------------------\n",
    "# Set up API Credentials\n",
    "# ------------------------------\n",
    "\n",
    "SPOTIFY_CLIENT_ID = \"1e9f17fbe8f84b3ebabe5d48603e6ffc\"\n",
    "SPOTIFY_CLIENT_SECRET = \"6f33b108987544418206cb70fd94d403\"\n",
    "GENIUS_ACCESS_TOKEN = \"tRFnVnQJ2Ltli7ANNbqLg3I_Ir2NX7TX_iS6L7ufNGWFldulVJjGOmYiVb5w_EDl\"\n",
    "\n",
    "# ------------------------------\n",
    "# Authenticate with Spotify & Genius\n",
    "# ------------------------------\n",
    "\n",
    "auth_manager = SpotifyClientCredentials(client_id=SPOTIFY_CLIENT_ID, client_secret=SPOTIFY_CLIENT_SECRET)\n",
    "sp = spotipy.Spotify(auth_manager=auth_manager)\n",
    "genius = lyricsgenius.Genius(GENIUS_ACCESS_TOKEN, timeout=15, retries=3)\n",
    "\n",
    "\n",
    "# ------------------------------\n",
    "# Data Collection from Spotify & Genius\n",
    "# ------------------------------\n",
    "\n",
    "data = []\n",
    "\n",
    "for artist_name in tqdm(top_pop_artists, desc=\"Processing artists\"):\n",
    "    artist_results = sp.search(q=f\"artist:{artist_name}\", type=\"artist\", limit=1)\n",
    "    if not artist_results['artists']['items']:\n",
    "        print(f\"Artist {artist_name} not found on Spotify.\")\n",
    "        continue\n",
    "\n",
    "    artist = artist_results['artists']['items'][0]\n",
    "    artist_id = artist['id']\n",
    "    print(f\"Collecting top tracks for {artist_name}...\")\n",
    "\n",
    "    top_tracks = get_top_tracks_for_artist(artist_id, sp, max_tracks=50, country=\"US\")\n",
    "    print(f\"Found {len(top_tracks)} top tracks for {artist_name}.\")\n",
    "\n",
    "    for track in top_tracks:\n",
    "\n",
    "        track_id = track['id']\n",
    "        full_track = sp.track(track_id)\n",
    "\n",
    "        track_title = track['name']\n",
    "        track_artists = [a['name'] for a in track['artists']]\n",
    "        is_collaboration = len(track_artists) > 1\n",
    "        track_id = track['id']\n",
    "        track_duration = track['duration_ms'] / 1000\n",
    "        album_info = full_track['album']\n",
    "        release_date = album_info.get('release_date', 'Unknown')\n",
    "        popularity = track.get('popularity', 0)\n",
    "\n",
    "        lyrics = get_english_lyrics(track_title, artist_name, genius)\n",
    "\n",
    "        if lyrics == False:\n",
    "            continue\n",
    "\n",
    "        time.sleep(0.5)\n",
    "\n",
    "        data.append({\n",
    "            \"song_title\": track_title,\n",
    "            \"artists\": \", \".join(track_artists),\n",
    "            \"release_date\": release_date,\n",
    "            \"popularity\": popularity,\n",
    "            \"is_collaboration\": is_collaboration,\n",
    "            \"duration_seconds\": track_duration,\n",
    "            \"spotify_id\": track_id,\n",
    "            \"lyrics\": lyrics\n",
    "        })\n",
    "\n",
    "df = pd.DataFrame(data)\n",
    "print(\"Data collection complete. Here's a preview:\")\n",
    "print(df.head())"
   ]
  },
  {
   "cell_type": "code",
   "execution_count": 8,
   "id": "e0932dc0",
   "metadata": {},
   "outputs": [],
   "source": [
    "df.to_csv(\"spotify_genius_data.csv\", index=False)"
   ]
  }
 ],
 "metadata": {
  "kernelspec": {
   "display_name": "base",
   "language": "python",
   "name": "python3"
  },
  "language_info": {
   "codemirror_mode": {
    "name": "ipython",
    "version": 3
   },
   "file_extension": ".py",
   "mimetype": "text/x-python",
   "name": "python",
   "nbconvert_exporter": "python",
   "pygments_lexer": "ipython3",
   "version": "3.10.16"
  }
 },
 "nbformat": 4,
 "nbformat_minor": 5
}
