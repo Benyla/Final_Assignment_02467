{
 "cells": [
  {
   "cell_type": "code",
   "execution_count": 2,
   "id": "02c56814",
   "metadata": {},
   "outputs": [
    {
     "name": "stderr",
     "output_type": "stream",
     "text": [
      "Processing artists:   0%|          | 0/2 [00:00<?, ?it/s]"
     ]
    },
    {
     "name": "stdout",
     "output_type": "stream",
     "text": [
      "Collecting top tracks for Taylor Swift...\n"
     ]
    },
    {
     "name": "stderr",
     "output_type": "stream",
     "text": [
      "\n"
     ]
    },
    {
     "ename": "TypeError",
     "evalue": "get_all_tracks_for_artist() missing 1 required positional argument: 'sp'",
     "output_type": "error",
     "traceback": [
      "\u001b[0;31m---------------------------------------------------------------------------\u001b[0m",
      "\u001b[0;31mTypeError\u001b[0m                                 Traceback (most recent call last)",
      "Cell \u001b[0;32mIn[2], line 45\u001b[0m\n\u001b[1;32m     42\u001b[0m artist_id \u001b[38;5;241m=\u001b[39m artist[\u001b[38;5;124m'\u001b[39m\u001b[38;5;124mid\u001b[39m\u001b[38;5;124m'\u001b[39m]\n\u001b[1;32m     43\u001b[0m \u001b[38;5;28mprint\u001b[39m(\u001b[38;5;124mf\u001b[39m\u001b[38;5;124m\"\u001b[39m\u001b[38;5;124mCollecting top tracks for \u001b[39m\u001b[38;5;132;01m{\u001b[39;00martist_name\u001b[38;5;132;01m}\u001b[39;00m\u001b[38;5;124m...\u001b[39m\u001b[38;5;124m\"\u001b[39m)\n\u001b[0;32m---> 45\u001b[0m top_tracks \u001b[38;5;241m=\u001b[39m \u001b[43mget_all_tracks_for_artist\u001b[49m\u001b[43m(\u001b[49m\u001b[43martist_id\u001b[49m\u001b[43m)\u001b[49m\n\u001b[1;32m     47\u001b[0m \u001b[38;5;28;01mfor\u001b[39;00m track \u001b[38;5;129;01min\u001b[39;00m top_tracks:\n\u001b[1;32m     48\u001b[0m     track_title \u001b[38;5;241m=\u001b[39m track[\u001b[38;5;124m'\u001b[39m\u001b[38;5;124mname\u001b[39m\u001b[38;5;124m'\u001b[39m]\n",
      "\u001b[0;31mTypeError\u001b[0m: get_all_tracks_for_artist() missing 1 required positional argument: 'sp'"
     ]
    }
   ],
   "source": [
    "import spotipy\n",
    "from spotipy.oauth2 import SpotifyClientCredentials\n",
    "import lyricsgenius\n",
    "import pandas as pd\n",
    "import time\n",
    "from langdetect import detect\n",
    "from pop_artists import top_pop_artists\n",
    "from utils import get_english_lyrics, get_all_tracks_for_artist\n",
    "from tqdm import tqdm\n",
    "\n",
    "\n",
    "# ------------------------------\n",
    "# Set up API Credentials\n",
    "# ------------------------------\n",
    "\n",
    "SPOTIFY_CLIENT_ID = \"1e9f17fbe8f84b3ebabe5d48603e6ffc\"\n",
    "SPOTIFY_CLIENT_SECRET = \"6f33b108987544418206cb70fd94d403\"\n",
    "GENIUS_ACCESS_TOKEN = \"tRFnVnQJ2Ltli7ANNbqLg3I_Ir2NX7TX_iS6L7ufNGWFldulVJjGOmYiVb5w_EDl\"\n",
    "\n",
    "# ------------------------------\n",
    "# Authenticate with Spotify & Genius\n",
    "# ------------------------------\n",
    "\n",
    "auth_manager = SpotifyClientCredentials(client_id=SPOTIFY_CLIENT_ID, client_secret=SPOTIFY_CLIENT_SECRET)\n",
    "sp = spotipy.Spotify(auth_manager=auth_manager)\n",
    "genius = lyricsgenius.Genius(GENIUS_ACCESS_TOKEN, timeout=15, retries=3)\n",
    "\n",
    "\n",
    "# ------------------------------\n",
    "# Data Collection from Spotify & Genius\n",
    "# ------------------------------\n",
    "\n",
    "data = []\n",
    "\n",
    "for artist_name in tqdm(top_pop_artists[0:2], desc=\"Processing artists\"):\n",
    "    artist_results = sp.search(q=f\"artist:{artist_name}\", type=\"artist\", limit=1)\n",
    "    if not artist_results['artists']['items']:\n",
    "        print(f\"Artist {artist_name} not found on Spotify.\")\n",
    "        continue\n",
    "\n",
    "    artist = artist_results['artists']['items'][0]\n",
    "    artist_id = artist['id']\n",
    "    print(f\"Collecting top tracks for {artist_name}...\")\n",
    "\n",
    "    top_tracks = get_all_tracks_for_artist(artist_id)\n",
    "\n",
    "    for track in top_tracks:\n",
    "        track_title = track['name']\n",
    "        track_artists = [a['name'] for a in track['artists']]\n",
    "        is_collaboration = len(track_artists) > 1\n",
    "        track_id = track['id']\n",
    "        track_duration = track['duration_ms'] / 1000\n",
    "        album_info = track['album']\n",
    "        release_date = album_info.get('release_date', 'Unknown')\n",
    "        popularity = track.get('popularity', 0)\n",
    "\n",
    "        lyrics = get_english_lyrics(track_title, artist_name, genius)\n",
    "\n",
    "        if lyrics == \"Lyrics not in English\" or \"Lyrics not found\":\n",
    "            continue\n",
    "\n",
    "        time.sleep(0.5)\n",
    "\n",
    "        data.append({\n",
    "            \"song_title\": track_title,\n",
    "            \"artists\": \", \".join(track_artists),\n",
    "            \"release_date\": release_date,\n",
    "            \"popularity\": popularity,\n",
    "            \"is_collaboration\": is_collaboration,\n",
    "            \"duration_seconds\": track_duration,\n",
    "            \"spotify_id\": track_id,\n",
    "            \"lyrics\": lyrics\n",
    "        })\n",
    "\n",
    "df = pd.DataFrame(data)\n",
    "print(\"Data collection complete. Here's a preview:\")\n",
    "print(df.head())"
   ]
  },
  {
   "cell_type": "code",
   "execution_count": 7,
   "id": "e0932dc0",
   "metadata": {},
   "outputs": [],
   "source": [
    "df.to_csv(\"spotify_genius_data.csv\", index=False)"
   ]
  }
 ],
 "metadata": {
  "kernelspec": {
   "display_name": "base",
   "language": "python",
   "name": "python3"
  },
  "language_info": {
   "codemirror_mode": {
    "name": "ipython",
    "version": 3
   },
   "file_extension": ".py",
   "mimetype": "text/x-python",
   "name": "python",
   "nbconvert_exporter": "python",
   "pygments_lexer": "ipython3",
   "version": "3.10.16"
  }
 },
 "nbformat": 4,
 "nbformat_minor": 5
}
