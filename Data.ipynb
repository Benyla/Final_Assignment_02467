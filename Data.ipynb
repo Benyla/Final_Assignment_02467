{
 "cells": [
  {
   "cell_type": "code",
   "execution_count": 6,
   "id": "02c56814",
   "metadata": {},
   "outputs": [
    {
     "name": "stderr",
     "output_type": "stream",
     "text": [
      "Processing artists:   0%|          | 0/50 [00:00<?, ?it/s]"
     ]
    },
    {
     "name": "stdout",
     "output_type": "stream",
     "text": [
      "Collecting top tracks for Taylor Swift...\n",
      "Searching for \"Cruel Summer\" by Taylor Swift...\n",
      "Done.\n",
      "Searching for \"Fortnight (feat. Post Malone)\" by Taylor Swift...\n",
      "Done.\n",
      "Non-English lyrics for Fortnight (feat. Post Malone) by Taylor Swift, retrying with 'English' hint...\n",
      "Searching for \"Fortnight (feat. Post Malone) English\" by Taylor Swift...\n",
      "Done.\n",
      "Searching for \"cardigan\" by Taylor Swift...\n",
      "Done.\n",
      "Searching for \"Lover\" by Taylor Swift...\n",
      "Done.\n",
      "Searching for \"august\" by Taylor Swift...\n",
      "Done.\n",
      "Searching for \"I Can Do It With a Broken Heart\" by Taylor Swift...\n",
      "Done.\n",
      "Searching for \"Blank Space\" by Taylor Swift...\n",
      "Done.\n",
      "Searching for \"I Don’t Wanna Live Forever (Fifty Shades Darker)\" by Taylor Swift...\n",
      "No results found for: 'I Don’t Wanna Live Forever (Fifty Shades Darker) Taylor Swift'\n",
      "Searching for \"Don’t Blame Me\" by Taylor Swift...\n",
      "Done.\n",
      "Searching for \"Anti-Hero\" by Taylor Swift...\n",
      "Done.\n"
     ]
    },
    {
     "name": "stderr",
     "output_type": "stream",
     "text": [
      "Processing artists:   2%|▏         | 1/50 [00:37<30:15, 37.05s/it]"
     ]
    },
    {
     "name": "stdout",
     "output_type": "stream",
     "text": [
      "Collecting top tracks for Dua Lipa...\n",
      "Searching for \"Handlebars (feat. Dua Lipa)\" by Dua Lipa...\n",
      "Done.\n",
      "Searching for \"Cold Heart - PNAU Remix\" by Dua Lipa...\n",
      "Done.\n",
      "Searching for \"Training Season\" by Dua Lipa...\n",
      "Done.\n",
      "Searching for \"Houdini\" by Dua Lipa...\n",
      "Done.\n",
      "Searching for \"Don't Start Now\" by Dua Lipa...\n",
      "Done.\n",
      "Searching for \"Dance The Night - From Barbie The Album\" by Dua Lipa...\n",
      "No results found for: 'Dance The Night - From Barbie The Album Dua Lipa'\n",
      "Searching for \"One Kiss (with Dua Lipa)\" by Dua Lipa...\n",
      "No results found for: 'One Kiss (with Dua Lipa) Dua Lipa'\n",
      "Searching for \"Levitating (feat. DaBaby)\" by Dua Lipa...\n",
      "Done.\n",
      "Non-English lyrics for Levitating (feat. DaBaby) by Dua Lipa, retrying with 'English' hint...\n",
      "Searching for \"Levitating (feat. DaBaby) English\" by Dua Lipa...\n",
      "Done.\n",
      "Searching for \"New Rules\" by Dua Lipa...\n",
      "Done.\n",
      "Searching for \"IDGAF\" by Dua Lipa...\n",
      "Done.\n"
     ]
    },
    {
     "name": "stderr",
     "output_type": "stream",
     "text": [
      "Processing artists:   4%|▍         | 2/50 [01:10<27:52, 34.84s/it]"
     ]
    },
    {
     "name": "stdout",
     "output_type": "stream",
     "text": [
      "Collecting top tracks for Olivia Rodrigo...\n",
      "Searching for \"traitor\" by Olivia Rodrigo...\n",
      "Done.\n",
      "Searching for \"drivers license\" by Olivia Rodrigo...\n",
      "Done.\n",
      "Searching for \"deja vu\" by Olivia Rodrigo...\n",
      "Done.\n",
      "Searching for \"vampire\" by Olivia Rodrigo...\n",
      "Done.\n",
      "Searching for \"good 4 u\" by Olivia Rodrigo...\n",
      "Done.\n",
      "Searching for \"happier\" by Olivia Rodrigo...\n",
      "Done.\n",
      "Searching for \"favorite crime\" by Olivia Rodrigo...\n",
      "Done.\n",
      "Searching for \"jealousy, jealousy\" by Olivia Rodrigo...\n",
      "Done.\n",
      "Searching for \"All I Want - From \"High School Musical: The Musical: The Series\"\" by Olivia Rodrigo...\n",
      "No results found for: 'All I Want - From \"High School Musical: The Musical: The Series\" Olivia Rodrigo'\n",
      "Searching for \"bad idea right?\" by Olivia Rodrigo...\n",
      "Done.\n"
     ]
    },
    {
     "name": "stderr",
     "output_type": "stream",
     "text": [
      "Processing artists:   6%|▌         | 3/50 [02:09<35:57, 45.90s/it]"
     ]
    },
    {
     "name": "stdout",
     "output_type": "stream",
     "text": [
      "Collecting top tracks for The Weeknd...\n",
      "Searching for \"Timeless (feat Playboi Carti)\" by The Weeknd...\n",
      "Done.\n",
      "Non-English lyrics for Timeless (feat Playboi Carti) by The Weeknd, retrying with 'English' hint...\n",
      "Searching for \"Timeless (feat Playboi Carti) English\" by The Weeknd...\n",
      "Done.\n",
      "Searching for \"One Of The Girls (with JENNIE, Lily Rose Depp)\" by The Weeknd...\n",
      "No results found for: 'One Of The Girls (with JENNIE, Lily Rose Depp) The Weeknd'\n",
      "Searching for \"RATHER LIE (with The Weeknd)\" by The Weeknd...\n",
      "Done.\n",
      "Non-English lyrics for RATHER LIE (with The Weeknd) by The Weeknd, retrying with 'English' hint...\n",
      "Searching for \"RATHER LIE (with The Weeknd) English\" by The Weeknd...\n",
      "No results found for: 'RATHER LIE (with The Weeknd) English The Weeknd'\n",
      "Searching for \"Starboy\" by The Weeknd...\n",
      "Done.\n",
      "Searching for \"Blinding Lights\" by The Weeknd...\n",
      "Done.\n",
      "Searching for \"Die For You\" by The Weeknd...\n",
      "Done.\n",
      "Searching for \"Cry For Me\" by The Weeknd...\n",
      "Done.\n",
      "Searching for \"São Paulo (feat. Anitta)\" by The Weeknd...\n",
      "Done.\n",
      "Searching for \"The Hills\" by The Weeknd...\n",
      "Done.\n",
      "Searching for \"Save Your Tears\" by The Weeknd...\n",
      "Done.\n"
     ]
    },
    {
     "name": "stderr",
     "output_type": "stream",
     "text": [
      "Processing artists:   8%|▊         | 4/50 [03:09<39:33, 51.59s/it]"
     ]
    },
    {
     "name": "stdout",
     "output_type": "stream",
     "text": [
      "Collecting top tracks for SZA...\n",
      "Searching for \"علي باب السيما - من مسلسل ريفو\" by SZA...\n",
      "No results found for: 'علي باب السيما - من مسلسل ريفو SZA'\n",
      "Searching for \"حكمة الايام - من مسلسل ريفو\" by SZA...\n",
      "No results found for: 'حكمة الايام - من مسلسل ريفو SZA'\n",
      "Searching for \"الوقت فات - من مسلسل ريفو\" by SZA...\n",
      "No results found for: 'الوقت فات - من مسلسل ريفو SZA'\n",
      "Searching for \"انا نجم - من مسلسل ريفو\" by SZA...\n",
      "No results found for: 'انا نجم - من مسلسل ريفو SZA'\n",
      "Searching for \"ياما سوا - من مسلسل ريفو\" by SZA...\n",
      "No results found for: 'ياما سوا - من مسلسل ريفو SZA'\n",
      "Searching for \"احنا النهاردة - من مسلسل ريفو\" by SZA...\n",
      "No results found for: 'احنا النهاردة - من مسلسل ريفو SZA'\n",
      "Searching for \"يابنت الناس - من مسلسل ريفو\" by SZA...\n",
      "No results found for: 'يابنت الناس - من مسلسل ريفو SZA'\n",
      "Searching for \"الكلبة لاسي - من مسلسل ريفو\" by SZA...\n",
      "No results found for: 'الكلبة لاسي - من مسلسل ريفو SZA'\n",
      "Searching for \"Everybody Loves My Baby - من مسلسل ريفو\" by SZA...\n",
      "No results found for: 'Everybody Loves My Baby - من مسلسل ريفو SZA'\n",
      "Searching for \"House Of The Rising Sun - من مسلسل ريفو\" by SZA...\n",
      "No results found for: 'House Of The Rising Sun - من مسلسل ريفو SZA'\n"
     ]
    },
    {
     "name": "stderr",
     "output_type": "stream",
     "text": [
      "Processing artists:  10%|█         | 5/50 [03:26<29:18, 39.08s/it]"
     ]
    },
    {
     "name": "stdout",
     "output_type": "stream",
     "text": [
      "Collecting top tracks for Doja Cat...\n",
      "Searching for \"Born Again (feat. Doja Cat & RAYE)\" by Doja Cat...\n",
      "Done.\n",
      "Non-English lyrics for Born Again (feat. Doja Cat & RAYE) by Doja Cat, retrying with 'English' hint...\n",
      "Searching for \"Born Again (feat. Doja Cat & RAYE) English\" by Doja Cat...\n",
      "Done.\n",
      "Searching for \"Kiss Me More (feat. SZA)\" by Doja Cat...\n",
      "Done.\n",
      "Non-English lyrics for Kiss Me More (feat. SZA) by Doja Cat, retrying with 'English' hint...\n",
      "Searching for \"Kiss Me More (feat. SZA) English\" by Doja Cat...\n",
      "Done.\n",
      "Searching for \"Streets\" by Doja Cat...\n",
      "Done.\n",
      "Searching for \"Paint The Town Red\" by Doja Cat...\n",
      "Done.\n",
      "Searching for \"Woman\" by Doja Cat...\n",
      "Done.\n",
      "Searching for \"Agora Hills\" by Doja Cat...\n",
      "Done.\n",
      "Searching for \"So High\" by Doja Cat...\n",
      "Done.\n",
      "Searching for \"Just Us (feat. Doja Cat)\" by Doja Cat...\n",
      "Done.\n",
      "Searching for \"Need to Know\" by Doja Cat...\n",
      "Done.\n",
      "Searching for \"Candy\" by Doja Cat...\n",
      "Done.\n"
     ]
    },
    {
     "name": "stderr",
     "output_type": "stream",
     "text": [
      "Processing artists:  12%|█▏        | 6/50 [04:24<33:20, 45.46s/it]"
     ]
    },
    {
     "name": "stdout",
     "output_type": "stream",
     "text": [
      "Collecting top tracks for Ariana Grande...\n",
      "Searching for \"we can't be friends (wait for your love)\" by Ariana Grande...\n",
      "Done.\n",
      "Searching for \"twilight zone\" by Ariana Grande...\n",
      "Done.\n",
      "Searching for \"dandelion\" by Ariana Grande...\n",
      "Done.\n",
      "Searching for \"warm\" by Ariana Grande...\n",
      "Done.\n",
      "Searching for \"One Last Time\" by Ariana Grande...\n",
      "Done.\n",
      "Searching for \"Save Your Tears (Remix) (with Ariana Grande) - Bonus Track\" by Ariana Grande...\n",
      "No results found for: 'Save Your Tears (Remix) (with Ariana Grande) - Bonus Track Ariana Grande'\n",
      "Searching for \"Into You\" by Ariana Grande...\n",
      "Done.\n",
      "Searching for \"Hampstead\" by Ariana Grande...\n",
      "Done.\n",
      "Searching for \"the boy is mine\" by Ariana Grande...\n",
      "Done.\n",
      "Searching for \"past life\" by Ariana Grande...\n",
      "Done.\n"
     ]
    },
    {
     "name": "stderr",
     "output_type": "stream",
     "text": [
      "Processing artists:  14%|█▍        | 7/50 [05:20<35:00, 48.84s/it]"
     ]
    },
    {
     "name": "stdout",
     "output_type": "stream",
     "text": [
      "Collecting top tracks for Billie Eilish...\n",
      "Searching for \"BIRDS OF A FEATHER\" by Billie Eilish...\n",
      "Done.\n",
      "Searching for \"WILDFLOWER\" by Billie Eilish...\n",
      "Done.\n",
      "Searching for \"CHIHIRO\" by Billie Eilish...\n",
      "Done.\n",
      "Searching for \"Guess featuring billie eilish\" by Billie Eilish...\n",
      "Done.\n",
      "Searching for \"lovely (with Khalid)\" by Billie Eilish...\n",
      "No results found for: 'lovely (with Khalid) Billie Eilish'\n",
      "Searching for \"What Was I Made For? [From The Motion Picture \"Barbie\"]\" by Billie Eilish...\n",
      "No results found for: 'What Was I Made For? [From The Motion Picture \"Barbie\"] Billie Eilish'\n",
      "Searching for \"ocean eyes\" by Billie Eilish...\n",
      "Done.\n",
      "Searching for \"when the party's over\" by Billie Eilish...\n",
      "Done.\n",
      "Searching for \"LUNCH\" by Billie Eilish...\n",
      "Done.\n",
      "Searching for \"TV\" by Billie Eilish...\n",
      "Done.\n"
     ]
    },
    {
     "name": "stderr",
     "output_type": "stream",
     "text": [
      "Processing artists:  16%|█▌        | 8/50 [06:08<34:01, 48.61s/it]"
     ]
    },
    {
     "name": "stdout",
     "output_type": "stream",
     "text": [
      "Collecting top tracks for Ed Sheeran...\n",
      "Searching for \"Shape of You\" by Ed Sheeran...\n",
      "Done.\n",
      "Searching for \"Perfect\" by Ed Sheeran...\n",
      "Done.\n",
      "Searching for \"Photograph\" by Ed Sheeran...\n",
      "Done.\n",
      "Searching for \"Azizam\" by Ed Sheeran...\n",
      "Done.\n",
      "Searching for \"Thinking out Loud\" by Ed Sheeran...\n",
      "Done.\n",
      "Searching for \"Shivers\" by Ed Sheeran...\n",
      "Done.\n",
      "Searching for \"Bad Habits\" by Ed Sheeran...\n",
      "Done.\n",
      "Searching for \"I Don't Care\" by Ed Sheeran...\n",
      "Done.\n",
      "Searching for \"Galway Girl\" by Ed Sheeran...\n",
      "Done.\n",
      "Searching for \"Castle on the Hill\" by Ed Sheeran...\n",
      "Done.\n"
     ]
    },
    {
     "name": "stderr",
     "output_type": "stream",
     "text": [
      "Processing artists:  18%|█▊        | 9/50 [07:10<36:10, 52.94s/it]"
     ]
    },
    {
     "name": "stdout",
     "output_type": "stream",
     "text": [
      "Collecting top tracks for Drake...\n",
      "Searching for \"NOKIA\" by Drake...\n",
      "Done.\n",
      "Searching for \"DIE TRYING\" by Drake...\n",
      "Done.\n",
      "Searching for \"One Dance\" by Drake...\n",
      "Done.\n",
      "Searching for \"She Will\" by Drake...\n",
      "Done.\n",
      "Searching for \"Passionfruit\" by Drake...\n",
      "Done.\n",
      "Searching for \"WAIT FOR U (feat. Drake & Tems)\" by Drake...\n",
      "Done.\n",
      "Non-English lyrics for WAIT FOR U (feat. Drake & Tems) by Drake, retrying with 'English' hint...\n",
      "Searching for \"WAIT FOR U (feat. Drake & Tems) English\" by Drake...\n",
      "Done.\n",
      "Searching for \"God's Plan\" by Drake...\n",
      "Done.\n",
      "Searching for \"Headlines\" by Drake...\n",
      "Done.\n",
      "Searching for \"GIMME A HUG\" by Drake...\n",
      "Done.\n",
      "Searching for \"SOMEBODY LOVES ME\" by Drake...\n",
      "Done.\n"
     ]
    },
    {
     "name": "stderr",
     "output_type": "stream",
     "text": [
      "Processing artists:  20%|██        | 10/50 [08:26<39:56, 59.91s/it]"
     ]
    },
    {
     "name": "stdout",
     "output_type": "stream",
     "text": [
      "Collecting top tracks for Harry Styles...\n",
      "Searching for \"As It Was\" by Harry Styles...\n",
      "Done.\n",
      "Searching for \"Sign of the Times\" by Harry Styles...\n",
      "Done.\n",
      "Searching for \"Watermelon Sugar\" by Harry Styles...\n",
      "Done.\n",
      "Searching for \"Adore You\" by Harry Styles...\n",
      "Done.\n",
      "Searching for \"Falling\" by Harry Styles...\n",
      "Done.\n",
      "Searching for \"Fine Line\" by Harry Styles...\n",
      "Done.\n",
      "Searching for \"Late Night Talking\" by Harry Styles...\n",
      "Done.\n",
      "Searching for \"Matilda\" by Harry Styles...\n",
      "Done.\n",
      "Searching for \"Golden\" by Harry Styles...\n",
      "Done.\n",
      "Non-English lyrics for Golden by Harry Styles, retrying with 'English' hint...\n",
      "Searching for \"Golden English\" by Harry Styles...\n",
      "Done.\n",
      "Searching for \"Satellite\" by Harry Styles...\n",
      "Done.\n"
     ]
    },
    {
     "name": "stderr",
     "output_type": "stream",
     "text": [
      "Processing artists:  22%|██▏       | 11/50 [09:24<38:36, 59.39s/it]"
     ]
    },
    {
     "name": "stdout",
     "output_type": "stream",
     "text": [
      "Collecting top tracks for Miley Cyrus...\n",
      "Searching for \"Flowers\" by Miley Cyrus...\n",
      "Done.\n",
      "Searching for \"Party In The U.S.A.\" by Miley Cyrus...\n",
      "Done.\n",
      "Searching for \"End of the World\" by Miley Cyrus...\n",
      "Done.\n",
      "Searching for \"Wrecking Ball\" by Miley Cyrus...\n",
      "Done.\n",
      "Searching for \"We Can't Stop\" by Miley Cyrus...\n",
      "Done.\n",
      "Searching for \"Angels Like You\" by Miley Cyrus...\n",
      "Done.\n",
      "Searching for \"Nothing Breaks Like a Heart (feat. Miley Cyrus)\" by Miley Cyrus...\n",
      "Done.\n",
      "Searching for \"The Climb\" by Miley Cyrus...\n",
      "Done.\n",
      "Searching for \"Prisoner (feat. Dua Lipa)\" by Miley Cyrus...\n",
      "Done.\n",
      "Non-English lyrics for Prisoner (feat. Dua Lipa) by Miley Cyrus, retrying with 'English' hint...\n",
      "Searching for \"Prisoner (feat. Dua Lipa) English\" by Miley Cyrus...\n",
      "Done.\n",
      "Searching for \"Malibu\" by Miley Cyrus...\n",
      "Done.\n"
     ]
    },
    {
     "name": "stderr",
     "output_type": "stream",
     "text": [
      "Processing artists:  24%|██▍       | 12/50 [10:22<37:21, 58.99s/it]"
     ]
    },
    {
     "name": "stdout",
     "output_type": "stream",
     "text": [
      "Collecting top tracks for Raye...\n",
      "Searching for \"Born Again (feat. Doja Cat & RAYE)\" by Raye...\n",
      "Done.\n",
      "Non-English lyrics for Born Again (feat. Doja Cat & RAYE) by Raye, retrying with 'English' hint...\n",
      "Searching for \"Born Again (feat. Doja Cat & RAYE) English\" by Raye...\n",
      "Done.\n",
      "Searching for \"Prada\" by Raye...\n",
      "Done.\n",
      "Searching for \"Escapism.\" by Raye...\n",
      "Done.\n",
      "Searching for \"Oscar Winning Tears.\" by Raye...\n",
      "Done.\n",
      "Searching for \"You Don't Know Me (feat. RAYE)\" by Raye...\n",
      "Done.\n",
      "Searching for \"Worth It.\" by Raye...\n",
      "Done.\n",
      "Searching for \"Escapism. - Sped Up\" by Raye...\n",
      "Done.\n",
      "Searching for \"BED\" by Raye...\n",
      "Done.\n",
      "Searching for \"Prada (feat. D-Block Europe) - Valexus Remix\" by Raye...\n",
      "Done.\n",
      "Searching for \"Secrets\" by Raye...\n",
      "Done.\n"
     ]
    },
    {
     "name": "stderr",
     "output_type": "stream",
     "text": [
      "Processing artists:  26%|██▌       | 13/50 [11:17<35:34, 57.69s/it]"
     ]
    },
    {
     "name": "stdout",
     "output_type": "stream",
     "text": [
      "Collecting top tracks for Tate McRae...\n",
      "Searching for \"Sports car\" by Tate McRae...\n",
      "Done.\n",
      "Searching for \"Revolving door\" by Tate McRae...\n",
      "Done.\n",
      "Searching for \"greedy\" by Tate McRae...\n",
      "Done.\n",
      "Searching for \"It's ok I'm ok\" by Tate McRae...\n",
      "Done.\n",
      "Searching for \"I know love (feat. The Kid LAROI)\" by Tate McRae...\n",
      "Done.\n",
      "Searching for \"you broke me first\" by Tate McRae...\n",
      "Done.\n",
      "Searching for \"Dear god\" by Tate McRae...\n",
      "Done.\n",
      "Searching for \"Purple lace bra\" by Tate McRae...\n",
      "Done.\n",
      "Searching for \"Miss possessive\" by Tate McRae...\n",
      "Done.\n",
      "Searching for \"2 hands\" by Tate McRae...\n",
      "Done.\n"
     ]
    },
    {
     "name": "stderr",
     "output_type": "stream",
     "text": [
      "Processing artists:  28%|██▊       | 14/50 [12:16<34:52, 58.14s/it]"
     ]
    },
    {
     "name": "stdout",
     "output_type": "stream",
     "text": [
      "Collecting top tracks for Troye Sivan...\n",
      "Searching for \"Rush\" by Troye Sivan...\n",
      "Done.\n",
      "Searching for \"One Of Your Girls\" by Troye Sivan...\n",
      "Done.\n",
      "Searching for \"Physical (feat. Troye Sivan)\" by Troye Sivan...\n",
      "Done.\n",
      "Non-English lyrics for Physical (feat. Troye Sivan) by Troye Sivan, retrying with 'English' hint...\n",
      "Searching for \"Physical (feat. Troye Sivan) English\" by Troye Sivan...\n",
      "Done.\n",
      "Searching for \"Angel Baby\" by Troye Sivan...\n",
      "Done.\n",
      "Searching for \"Strawberries & Cigarettes\" by Troye Sivan...\n",
      "Done.\n",
      "Searching for \"Got Me Started\" by Troye Sivan...\n",
      "Done.\n",
      "Searching for \"Talk talk featuring troye sivan\" by Troye Sivan...\n",
      "Done.\n",
      "Searching for \"i'm so tired...\" by Troye Sivan...\n",
      "Done.\n",
      "Searching for \"YOUTH\" by Troye Sivan...\n",
      "Done.\n",
      "Searching for \"You\" by Troye Sivan...\n",
      "Done.\n"
     ]
    },
    {
     "name": "stderr",
     "output_type": "stream",
     "text": [
      "Processing artists:  30%|███       | 15/50 [13:05<32:22, 55.49s/it]"
     ]
    },
    {
     "name": "stdout",
     "output_type": "stream",
     "text": [
      "Collecting top tracks for Charli XCX...\n",
      "Searching for \"Guess featuring billie eilish\" by Charli XCX...\n",
      "Done.\n",
      "Searching for \"Apple\" by Charli XCX...\n",
      "Done.\n",
      "Searching for \"party 4 u\" by Charli XCX...\n",
      "Done.\n",
      "Searching for \"360\" by Charli XCX...\n",
      "Done.\n",
      "Searching for \"Von dutch\" by Charli XCX...\n",
      "Done.\n",
      "Searching for \"B2b\" by Charli XCX...\n",
      "Done.\n",
      "Searching for \"365\" by Charli XCX...\n",
      "Done.\n",
      "Searching for \"Girl, so confusing featuring lorde\" by Charli XCX...\n",
      "Done.\n",
      "Searching for \"Boom Clap\" by Charli XCX...\n",
      "Done.\n",
      "Searching for \"Sympathy is a knife featuring ariana grande\" by Charli XCX...\n",
      "Done.\n"
     ]
    },
    {
     "name": "stderr",
     "output_type": "stream",
     "text": [
      "Processing artists:  32%|███▏      | 16/50 [13:53<30:06, 53.12s/it]"
     ]
    },
    {
     "name": "stdout",
     "output_type": "stream",
     "text": [
      "Collecting top tracks for Sabrina Carpenter...\n",
      "Searching for \"Espresso\" by Sabrina Carpenter...\n",
      "Done.\n",
      "Searching for \"Taste\" by Sabrina Carpenter...\n",
      "Done.\n",
      "Searching for \"Please Please Please\" by Sabrina Carpenter...\n",
      "Done.\n",
      "Searching for \"Busy Woman\" by Sabrina Carpenter...\n",
      "Done.\n",
      "Searching for \"Bed Chem\" by Sabrina Carpenter...\n",
      "Done.\n",
      "Searching for \"Juno\" by Sabrina Carpenter...\n",
      "Done.\n",
      "Searching for \"Nonsense\" by Sabrina Carpenter...\n",
      "Done.\n",
      "Searching for \"Feather\" by Sabrina Carpenter...\n",
      "Done.\n",
      "Searching for \"15 Minutes\" by Sabrina Carpenter...\n",
      "Done.\n",
      "Searching for \"Good Graces\" by Sabrina Carpenter...\n",
      "Done.\n"
     ]
    },
    {
     "name": "stderr",
     "output_type": "stream",
     "text": [
      "Processing artists:  34%|███▍      | 17/50 [14:47<29:21, 53.38s/it]"
     ]
    },
    {
     "name": "stdout",
     "output_type": "stream",
     "text": [
      "Collecting top tracks for Kali Uchis...\n",
      "Searching for \"Moonlight\" by Kali Uchis...\n",
      "Done.\n",
      "Searching for \"telepatía\" by Kali Uchis...\n",
      "Done.\n",
      "Non-English lyrics for telepatía by Kali Uchis, retrying with 'English' hint...\n",
      "Searching for \"telepatía English\" by Kali Uchis...\n",
      "Done.\n",
      "Searching for \"After The Storm (feat. Tyler, The Creator & Bootsy Collins)\" by Kali Uchis...\n",
      "Done.\n",
      "Non-English lyrics for After The Storm (feat. Tyler, The Creator & Bootsy Collins) by Kali Uchis, retrying with 'English' hint...\n",
      "Searching for \"After The Storm (feat. Tyler, The Creator & Bootsy Collins) English\" by Kali Uchis...\n",
      "Done.\n",
      "Searching for \"SI NO ES CONTIGO - REMIX\" by Kali Uchis...\n",
      "Done.\n",
      "Non-English lyrics for SI NO ES CONTIGO - REMIX by Kali Uchis, retrying with 'English' hint...\n",
      "Searching for \"SI NO ES CONTIGO - REMIX English\" by Kali Uchis...\n",
      "Done.\n",
      "Searching for \"Damn Right (feat. Childish Gambino & Kali Uchis)\" by Kali Uchis...\n",
      "Done.\n",
      "Non-English lyrics for Damn Right (feat. Childish Gambino & Kali Uchis) by Kali Uchis, retrying with 'English' hint...\n",
      "Searching for \"Damn Right (feat. Childish Gambino & Kali Uchis) English\" by Kali Uchis...\n",
      "Done.\n",
      "Searching for \"Melting\" by Kali Uchis...\n",
      "Done.\n",
      "Searching for \"Crashing (with Kali Uchis)\" by Kali Uchis...\n",
      "No results found for: 'Crashing (with Kali Uchis) Kali Uchis'\n",
      "Searching for \"Igual Que Un Ángel (with Peso Pluma)\" by Kali Uchis...\n",
      "No results found for: 'Igual Que Un Ángel (with Peso Pluma) Kali Uchis'\n",
      "Searching for \"Sunshine & Rain...\" by Kali Uchis...\n",
      "Done.\n",
      "Searching for \"SAD GIRLZ LUV MONEY Remix (feat. Kali Uchis and Moliy)\" by Kali Uchis...\n",
      "Done.\n",
      "Non-English lyrics for SAD GIRLZ LUV MONEY Remix (feat. Kali Uchis and Moliy) by Kali Uchis, retrying with 'English' hint...\n",
      "Searching for \"SAD GIRLZ LUV MONEY Remix (feat. Kali Uchis and Moliy) English\" by Kali Uchis...\n",
      "No results found for: 'SAD GIRLZ LUV MONEY Remix (feat. Kali Uchis and Moliy) English Kali Uchis'\n"
     ]
    },
    {
     "name": "stderr",
     "output_type": "stream",
     "text": [
      "Processing artists:  36%|███▌      | 18/50 [15:41<28:30, 53.44s/it]"
     ]
    },
    {
     "name": "stdout",
     "output_type": "stream",
     "text": [
      "Collecting top tracks for Nicki Minaj...\n",
      "Searching for \"Starships\" by Nicki Minaj...\n",
      "Done.\n",
      "Searching for \"Bang Bang\" by Nicki Minaj...\n",
      "Done.\n",
      "Searching for \"Super Bass\" by Nicki Minaj...\n",
      "Done.\n",
      "Searching for \"Tusa\" by Nicki Minaj...\n",
      "Done.\n",
      "Non-English lyrics for Tusa by Nicki Minaj, retrying with 'English' hint...\n",
      "Searching for \"Tusa English\" by Nicki Minaj...\n",
      "Done.\n",
      "Searching for \"Swalla (feat. Nicki Minaj & Ty Dolla $ign)\" by Nicki Minaj...\n",
      "Done.\n",
      "Non-English lyrics for Swalla (feat. Nicki Minaj & Ty Dolla $ign) by Nicki Minaj, retrying with 'English' hint...\n",
      "Searching for \"Swalla (feat. Nicki Minaj & Ty Dolla $ign) English\" by Nicki Minaj...\n",
      "Done.\n",
      "Searching for \"The Night Is Still Young\" by Nicki Minaj...\n",
      "Done.\n",
      "Searching for \"Va Va Voom\" by Nicki Minaj...\n",
      "Done.\n",
      "Searching for \"Super Freaky Girl\" by Nicki Minaj...\n",
      "Done.\n",
      "Searching for \"Barbie World (with Aqua) [From Barbie The Album]\" by Nicki Minaj...\n",
      "No results found for: 'Barbie World (with Aqua) [From Barbie The Album] Nicki Minaj'\n",
      "Searching for \"Anaconda\" by Nicki Minaj...\n",
      "Done.\n"
     ]
    },
    {
     "name": "stderr",
     "output_type": "stream",
     "text": [
      "Processing artists:  38%|███▊      | 19/50 [16:38<28:17, 54.75s/it]"
     ]
    },
    {
     "name": "stdout",
     "output_type": "stream",
     "text": [
      "Collecting top tracks for Ice Spice...\n",
      "Searching for \"Boy's a liar Pt. 2\" by Ice Spice...\n",
      "Done.\n",
      "Searching for \"Did It First (with Central Cee)\" by Ice Spice...\n",
      "No results found for: 'Did It First (with Central Cee) Ice Spice'\n",
      "Searching for \"Barbie World (with Aqua) [From Barbie The Album]\" by Ice Spice...\n",
      "No results found for: 'Barbie World (with Aqua) [From Barbie The Album] Ice Spice'\n",
      "Searching for \"Deli\" by Ice Spice...\n",
      "Done.\n",
      "Searching for \"Hannah Montana (with NLE Choppa & DaBaby)\" by Ice Spice...\n",
      "No results found for: 'Hannah Montana (with NLE Choppa & DaBaby) Ice Spice'\n",
      "Searching for \"Princess Diana (with Nicki Minaj)\" by Ice Spice...\n",
      "No results found for: 'Princess Diana (with Nicki Minaj) Ice Spice'\n",
      "Searching for \"Think U The Shit (Fart)\" by Ice Spice...\n",
      "Done.\n",
      "Searching for \"In Ha Mood\" by Ice Spice...\n",
      "Done.\n",
      "Searching for \"Karma (feat. Ice Spice)\" by Ice Spice...\n",
      "Done.\n",
      "Searching for \"Munch (Feelin’ U)\" by Ice Spice...\n",
      "Done.\n"
     ]
    },
    {
     "name": "stderr",
     "output_type": "stream",
     "text": [
      "Processing artists:  40%|████      | 20/50 [17:27<26:25, 52.85s/it]"
     ]
    },
    {
     "name": "stdout",
     "output_type": "stream",
     "text": [
      "Collecting top tracks for Bad Bunny...\n",
      "Searching for \"DtMF\" by Bad Bunny...\n",
      "Done.\n",
      "Non-English lyrics for DtMF by Bad Bunny, retrying with 'English' hint...\n",
      "Searching for \"DtMF English\" by Bad Bunny...\n",
      "Done.\n",
      "Searching for \"BAILE INoLVIDABLE\" by Bad Bunny...\n",
      "Done.\n",
      "Non-English lyrics for BAILE INoLVIDABLE by Bad Bunny, retrying with 'English' hint...\n",
      "Searching for \"BAILE INoLVIDABLE English\" by Bad Bunny...\n",
      "Done.\n",
      "Searching for \"NUEVAYoL\" by Bad Bunny...\n",
      "Done.\n",
      "Non-English lyrics for NUEVAYoL by Bad Bunny, retrying with 'English' hint...\n",
      "Searching for \"NUEVAYoL English\" by Bad Bunny...\n",
      "Done.\n",
      "Searching for \"EoO\" by Bad Bunny...\n",
      "Done.\n",
      "Non-English lyrics for EoO by Bad Bunny, retrying with 'English' hint...\n",
      "Searching for \"EoO English\" by Bad Bunny...\n",
      "Done.\n",
      "Searching for \"VOY A LLeVARTE PA PR\" by Bad Bunny...\n",
      "Done.\n",
      "Non-English lyrics for VOY A LLeVARTE PA PR by Bad Bunny, retrying with 'English' hint...\n",
      "Searching for \"VOY A LLeVARTE PA PR English\" by Bad Bunny...\n",
      "Done.\n",
      "Searching for \"VeLDÁ\" by Bad Bunny...\n",
      "Done.\n",
      "Non-English lyrics for VeLDÁ by Bad Bunny, retrying with 'English' hint...\n",
      "Searching for \"VeLDÁ English\" by Bad Bunny...\n",
      "Done.\n",
      "Searching for \"Qué Pasaría...\" by Bad Bunny...\n",
      "Done.\n",
      "Non-English lyrics for Qué Pasaría... by Bad Bunny, retrying with 'English' hint...\n",
      "Searching for \"Qué Pasaría... English\" by Bad Bunny...\n",
      "Done.\n",
      "Searching for \"KLOuFRENS\" by Bad Bunny...\n",
      "Done.\n",
      "Non-English lyrics for KLOuFRENS by Bad Bunny, retrying with 'English' hint...\n",
      "Searching for \"KLOuFRENS English\" by Bad Bunny...\n",
      "Done.\n",
      "Searching for \"WELTiTA\" by Bad Bunny...\n",
      "Done.\n",
      "Non-English lyrics for WELTiTA by Bad Bunny, retrying with 'English' hint...\n",
      "Searching for \"WELTiTA English\" by Bad Bunny...\n",
      "Done.\n",
      "Searching for \"EL CLúB\" by Bad Bunny...\n",
      "Done.\n",
      "Non-English lyrics for EL CLúB by Bad Bunny, retrying with 'English' hint...\n",
      "Searching for \"EL CLúB English\" by Bad Bunny...\n",
      "Done.\n"
     ]
    },
    {
     "name": "stderr",
     "output_type": "stream",
     "text": [
      "Processing artists:  42%|████▏     | 21/50 [18:34<27:40, 57.26s/it]"
     ]
    },
    {
     "name": "stdout",
     "output_type": "stream",
     "text": [
      "Collecting top tracks for Rihanna...\n",
      "Searching for \"Breakin' Dishes\" by Rihanna...\n",
      "Done.\n",
      "Searching for \"We Found Love\" by Rihanna...\n",
      "Done.\n",
      "Searching for \"Only Girl (In The World)\" by Rihanna...\n",
      "Done.\n",
      "Searching for \"Don't Stop The Music\" by Rihanna...\n",
      "Done.\n",
      "Searching for \"Love On The Brain\" by Rihanna...\n",
      "Done.\n",
      "Searching for \"Umbrella\" by Rihanna...\n",
      "Done.\n",
      "Searching for \"S&M\" by Rihanna...\n",
      "Done.\n",
      "Searching for \"Stay\" by Rihanna...\n",
      "Done.\n",
      "Searching for \"Diamonds\" by Rihanna...\n",
      "Done.\n",
      "Searching for \"This Is What You Came For\" by Rihanna...\n",
      "Done.\n"
     ]
    },
    {
     "name": "stderr",
     "output_type": "stream",
     "text": [
      "Processing artists:  44%|████▍     | 22/50 [19:54<29:54, 64.08s/it]"
     ]
    },
    {
     "name": "stdout",
     "output_type": "stream",
     "text": [
      "Collecting top tracks for Selena Gomez...\n",
      "Searching for \"Ojos Tristes (with The Marías)\" by Selena Gomez...\n",
      "No results found for: 'Ojos Tristes (with The Marías) Selena Gomez'\n",
      "Searching for \"Call Me When You Break Up (with Gracie Abrams)\" by Selena Gomez...\n",
      "No results found for: 'Call Me When You Break Up (with Gracie Abrams) Selena Gomez'\n",
      "Searching for \"How Does It Feel To Be Forgotten\" by Selena Gomez...\n",
      "Done.\n",
      "Searching for \"Sunset Blvd\" by Selena Gomez...\n",
      "Done.\n",
      "Searching for \"Calm Down (with Selena Gomez)\" by Selena Gomez...\n",
      "No results found for: 'Calm Down (with Selena Gomez) Selena Gomez'\n",
      "Searching for \"Bluest Flame\" by Selena Gomez...\n",
      "Done.\n",
      "Searching for \"Good For You\" by Selena Gomez...\n",
      "Done.\n",
      "Searching for \"It Ain't Me (with Selena Gomez)\" by Selena Gomez...\n",
      "No results found for: 'It Ain't Me (with Selena Gomez) Selena Gomez'\n",
      "Searching for \"Lose You To Love Me\" by Selena Gomez...\n",
      "Done.\n",
      "Searching for \"Younger And Hotter Than Me\" by Selena Gomez...\n",
      "Done.\n"
     ]
    },
    {
     "name": "stderr",
     "output_type": "stream",
     "text": [
      "Processing artists:  46%|████▌     | 23/50 [20:33<25:21, 56.35s/it]"
     ]
    },
    {
     "name": "stdout",
     "output_type": "stream",
     "text": [
      "Collecting top tracks for Justin Bieber...\n",
      "Searching for \"Beauty And A Beat\" by Justin Bieber...\n",
      "Done.\n",
      "Searching for \"Love Yourself\" by Justin Bieber...\n",
      "Done.\n",
      "Searching for \"Sorry\" by Justin Bieber...\n",
      "Done.\n",
      "Searching for \"STAY (with Justin Bieber)\" by Justin Bieber...\n",
      "Done.\n",
      "Searching for \"Ghost\" by Justin Bieber...\n",
      "Done.\n",
      "Searching for \"Confident\" by Justin Bieber...\n",
      "Done.\n",
      "Searching for \"Baby\" by Justin Bieber...\n",
      "Done.\n",
      "Searching for \"What Do You Mean?\" by Justin Bieber...\n",
      "Done.\n",
      "Searching for \"bad guy\" by Justin Bieber...\n",
      "Done.\n",
      "Searching for \"I Don't Care\" by Justin Bieber...\n",
      "Done.\n"
     ]
    },
    {
     "name": "stderr",
     "output_type": "stream",
     "text": [
      "Processing artists:  48%|████▊     | 24/50 [21:44<26:18, 60.72s/it]"
     ]
    },
    {
     "name": "stdout",
     "output_type": "stream",
     "text": [
      "Collecting top tracks for Lady Gaga...\n",
      "Searching for \"Die With A Smile\" by Lady Gaga...\n",
      "Done.\n",
      "Searching for \"Abracadabra\" by Lady Gaga...\n",
      "Done.\n",
      "Searching for \"Poker Face\" by Lady Gaga...\n",
      "Done.\n",
      "Searching for \"Just Dance\" by Lady Gaga...\n",
      "Done.\n",
      "Searching for \"Garden Of Eden\" by Lady Gaga...\n",
      "Done.\n",
      "Searching for \"Bad Romance\" by Lady Gaga...\n",
      "Done.\n",
      "Searching for \"Disease\" by Lady Gaga...\n",
      "Done.\n",
      "Searching for \"Always Remember Us This Way\" by Lady Gaga...\n",
      "Done.\n",
      "Searching for \"Shallow\" by Lady Gaga...\n",
      "Done.\n",
      "Searching for \"Judas\" by Lady Gaga...\n",
      "Done.\n"
     ]
    },
    {
     "name": "stderr",
     "output_type": "stream",
     "text": [
      "Processing artists:  50%|█████     | 25/50 [22:51<26:09, 62.78s/it]"
     ]
    },
    {
     "name": "stdout",
     "output_type": "stream",
     "text": [
      "Collecting top tracks for Sam Smith...\n",
      "Searching for \"La La La\" by Sam Smith...\n",
      "Done.\n",
      "Non-English lyrics for La La La by Sam Smith, retrying with 'English' hint...\n",
      "Searching for \"La La La English\" by Sam Smith...\n",
      "Done.\n",
      "Searching for \"I'm Not The Only One\" by Sam Smith...\n",
      "Done.\n",
      "Searching for \"Latch\" by Sam Smith...\n",
      "Done.\n",
      "Searching for \"Stay With Me\" by Sam Smith...\n",
      "Done.\n",
      "Searching for \"Too Good At Goodbyes\" by Sam Smith...\n",
      "Done.\n",
      "Searching for \"Unholy (feat. Kim Petras)\" by Sam Smith...\n",
      "Done.\n",
      "Non-English lyrics for Unholy (feat. Kim Petras) by Sam Smith, retrying with 'English' hint...\n",
      "Searching for \"Unholy (feat. Kim Petras) English\" by Sam Smith...\n",
      "Done.\n",
      "Searching for \"Dancing With A Stranger (with Normani)\" by Sam Smith...\n",
      "Done.\n",
      "Non-English lyrics for Dancing With A Stranger (with Normani) by Sam Smith, retrying with 'English' hint...\n",
      "Searching for \"Dancing With A Stranger (with Normani) English\" by Sam Smith...\n",
      "Done.\n",
      "Searching for \"Fire On Fire\" by Sam Smith...\n",
      "Done.\n",
      "Searching for \"Desire (with Sam Smith)\" by Sam Smith...\n",
      "Done.\n",
      "Searching for \"Like I Can\" by Sam Smith...\n",
      "Done.\n"
     ]
    },
    {
     "name": "stderr",
     "output_type": "stream",
     "text": [
      "Processing artists:  52%|█████▏    | 26/50 [24:04<26:18, 65.78s/it]"
     ]
    },
    {
     "name": "stdout",
     "output_type": "stream",
     "text": [
      "Collecting top tracks for Beyoncé...\n",
      "Searching for \"Crazy In Love (feat. JAY-Z)\" by Beyoncé...\n",
      "Done.\n",
      "Searching for \"Halo\" by Beyoncé...\n",
      "Done.\n",
      "Searching for \"Diva\" by Beyoncé...\n",
      "Done.\n",
      "Searching for \"TEXAS HOLD 'EM\" by Beyoncé...\n",
      "Done.\n",
      "Searching for \"Irreplaceable\" by Beyoncé...\n",
      "Done.\n",
      "Searching for \"Single Ladies (Put a Ring on It)\" by Beyoncé...\n",
      "Done.\n",
      "Searching for \"CUFF IT\" by Beyoncé...\n",
      "Done.\n",
      "Searching for \"Haunted\" by Beyoncé...\n",
      "Done.\n",
      "Searching for \"If I Were a Boy\" by Beyoncé...\n",
      "Done.\n",
      "Searching for \"Beautiful Liar\" by Beyoncé...\n",
      "Done.\n"
     ]
    },
    {
     "name": "stderr",
     "output_type": "stream",
     "text": [
      "Processing artists:  54%|█████▍    | 27/50 [25:13<25:34, 66.73s/it]"
     ]
    },
    {
     "name": "stdout",
     "output_type": "stream",
     "text": [
      "Collecting top tracks for Camila Cabello...\n",
      "Searching for \"Señorita\" by Camila Cabello...\n",
      "Done.\n",
      "Searching for \"Shameless\" by Camila Cabello...\n",
      "Done.\n",
      "Searching for \"Havana (feat. Young Thug)\" by Camila Cabello...\n",
      "Done.\n",
      "Non-English lyrics for Havana (feat. Young Thug) by Camila Cabello, retrying with 'English' hint...\n",
      "Searching for \"Havana (feat. Young Thug) English\" by Camila Cabello...\n",
      "Done.\n",
      "Searching for \"Never Be the Same\" by Camila Cabello...\n",
      "Done.\n",
      "Searching for \"Bam Bam (feat. Ed Sheeran)\" by Camila Cabello...\n",
      "Done.\n",
      "Searching for \"Move (feat. Camila Cabello & Malachiii)\" by Camila Cabello...\n",
      "Done.\n",
      "Searching for \"My Oh My (feat. DaBaby)\" by Camila Cabello...\n",
      "Done.\n",
      "Non-English lyrics for My Oh My (feat. DaBaby) by Camila Cabello, retrying with 'English' hint...\n",
      "Searching for \"My Oh My (feat. DaBaby) English\" by Camila Cabello...\n",
      "No results found for: 'My Oh My (feat. DaBaby) English Camila Cabello'\n",
      "Searching for \"I Know What You Did Last Summer\" by Camila Cabello...\n",
      "Done.\n",
      "Searching for \"South of the Border (feat. Camila Cabello & Cardi B)\" by Camila Cabello...\n",
      "Done.\n",
      "Non-English lyrics for South of the Border (feat. Camila Cabello & Cardi B) by Camila Cabello, retrying with 'English' hint...\n",
      "Searching for \"South of the Border (feat. Camila Cabello & Cardi B) English\" by Camila Cabello...\n",
      "Done.\n",
      "Searching for \"Bad Things (with Camila Cabello)\" by Camila Cabello...\n",
      "No results found for: 'Bad Things (with Camila Cabello) Camila Cabello'\n"
     ]
    },
    {
     "name": "stderr",
     "output_type": "stream",
     "text": [
      "Processing artists:  56%|█████▌    | 28/50 [26:14<23:54, 65.18s/it]"
     ]
    },
    {
     "name": "stdout",
     "output_type": "stream",
     "text": [
      "Collecting top tracks for Shawn Mendes...\n",
      "Searching for \"There's Nothing Holdin' Me Back\" by Shawn Mendes...\n",
      "Done.\n",
      "Searching for \"Treat You Better\" by Shawn Mendes...\n",
      "Done.\n",
      "Searching for \"Stitches\" by Shawn Mendes...\n",
      "Done.\n",
      "Searching for \"Señorita\" by Shawn Mendes...\n",
      "Done.\n",
      "Searching for \"Mercy\" by Shawn Mendes...\n",
      "Done.\n",
      "Searching for \"Why Why Why\" by Shawn Mendes...\n",
      "Done.\n",
      "Searching for \"If I Can't Have You\" by Shawn Mendes...\n",
      "Done.\n",
      "Searching for \"Wonder\" by Shawn Mendes...\n",
      "Done.\n",
      "Searching for \"Heart of Gold\" by Shawn Mendes...\n",
      "Done.\n",
      "Searching for \"Monster (Shawn Mendes & Justin Bieber)\" by Shawn Mendes...\n",
      "Done.\n",
      "Non-English lyrics for Monster (Shawn Mendes & Justin Bieber) by Shawn Mendes, retrying with 'English' hint...\n",
      "Searching for \"Monster (Shawn Mendes & Justin Bieber) English\" by Shawn Mendes...\n",
      "Done.\n"
     ]
    },
    {
     "name": "stderr",
     "output_type": "stream",
     "text": [
      "Processing artists:  58%|█████▊    | 29/50 [27:08<21:33, 61.60s/it]"
     ]
    },
    {
     "name": "stdout",
     "output_type": "stream",
     "text": [
      "Collecting top tracks for Halsey...\n",
      "Searching for \"Closer\" by Halsey...\n",
      "Done.\n",
      "Searching for \"Bad At Love\" by Halsey...\n",
      "Done.\n",
      "Searching for \"Without Me\" by Halsey...\n",
      "Done.\n",
      "Searching for \"Eastside (with Halsey & Khalid)\" by Halsey...\n",
      "No results found for: 'Eastside (with Halsey & Khalid) Halsey'\n",
      "Searching for \"Him & I (with Halsey)\" by Halsey...\n",
      "Done.\n",
      "Searching for \"Boy With Luv (feat. Halsey)\" by Halsey...\n",
      "Done.\n",
      "Searching for \"Gasoline\" by Halsey...\n",
      "Done.\n",
      "Searching for \"Be Kind (with Halsey)\" by Halsey...\n",
      "No results found for: 'Be Kind (with Halsey) Halsey'\n",
      "Searching for \"Control\" by Halsey...\n",
      "Done.\n",
      "Searching for \"Could Have Been Me\" by Halsey...\n",
      "Done.\n"
     ]
    },
    {
     "name": "stderr",
     "output_type": "stream",
     "text": [
      "Processing artists:  60%|██████    | 30/50 [28:07<20:20, 61.05s/it]"
     ]
    },
    {
     "name": "stdout",
     "output_type": "stream",
     "text": [
      "Collecting top tracks for Zara Larsson...\n",
      "Searching for \"Lush Life\" by Zara Larsson...\n",
      "Done.\n",
      "Searching for \"Symphony (feat. Zara Larsson)\" by Zara Larsson...\n",
      "Done.\n",
      "Searching for \"Words (feat. Zara Larsson)\" by Zara Larsson...\n",
      "Done.\n",
      "Searching for \"Never Forget You\" by Zara Larsson...\n",
      "Done.\n",
      "Searching for \"On My Love\" by Zara Larsson...\n",
      "Done.\n",
      "Searching for \"Ain't My Fault\" by Zara Larsson...\n",
      "Done.\n",
      "Searching for \"Can't Tame Her\" by Zara Larsson...\n",
      "Done.\n",
      "Searching for \"Ruin My Life\" by Zara Larsson...\n",
      "Done.\n",
      "Searching for \"WOW (feat. Sabrina Carpenter) - Remix\" by Zara Larsson...\n",
      "Done.\n",
      "Searching for \"Memory Lane\" by Zara Larsson...\n",
      "Done.\n"
     ]
    },
    {
     "name": "stderr",
     "output_type": "stream",
     "text": [
      "Processing artists:  62%|██████▏   | 31/50 [29:00<18:30, 58.44s/it]"
     ]
    },
    {
     "name": "stdout",
     "output_type": "stream",
     "text": [
      "Collecting top tracks for Lana Del Rey...\n",
      "Searching for \"Summertime Sadness\" by Lana Del Rey...\n",
      "Done.\n",
      "Searching for \"Young And Beautiful\" by Lana Del Rey...\n",
      "Done.\n",
      "Searching for \"Cinnamon Girl\" by Lana Del Rey...\n",
      "Done.\n",
      "Searching for \"Say Yes To Heaven\" by Lana Del Rey...\n",
      "Done.\n",
      "Searching for \"West Coast\" by Lana Del Rey...\n",
      "Done.\n",
      "Searching for \"Brooklyn Baby\" by Lana Del Rey...\n",
      "Done.\n",
      "Searching for \"Video Games\" by Lana Del Rey...\n",
      "Done.\n",
      "Searching for \"The Abyss (feat. Lana Del Rey)\" by Lana Del Rey...\n",
      "Done.\n",
      "Searching for \"Margaret (feat. Bleachers)\" by Lana Del Rey...\n",
      "Done.\n",
      "Non-English lyrics for Margaret (feat. Bleachers) by Lana Del Rey, retrying with 'English' hint...\n",
      "Searching for \"Margaret (feat. Bleachers) English\" by Lana Del Rey...\n",
      "Done.\n",
      "Searching for \"Diet Mountain Dew\" by Lana Del Rey...\n",
      "Done.\n"
     ]
    },
    {
     "name": "stderr",
     "output_type": "stream",
     "text": [
      "Processing artists:  64%|██████▍   | 32/50 [30:08<18:25, 61.44s/it]"
     ]
    },
    {
     "name": "stdout",
     "output_type": "stream",
     "text": [
      "Collecting top tracks for Conan Gray...\n",
      "Searching for \"The Cut That Always Bleeds\" by Conan Gray...\n",
      "Done.\n",
      "Searching for \"Heather\" by Conan Gray...\n",
      "Done.\n",
      "Searching for \"Memories\" by Conan Gray...\n",
      "Done.\n",
      "Searching for \"Maniac\" by Conan Gray...\n",
      "Done.\n",
      "Searching for \"Astronomy\" by Conan Gray...\n",
      "Done.\n",
      "Searching for \"Family Line\" by Conan Gray...\n",
      "Done.\n",
      "Searching for \"People Watching\" by Conan Gray...\n",
      "Done.\n",
      "Searching for \"Wish You Were Sober\" by Conan Gray...\n",
      "Done.\n",
      "Searching for \"The Exit\" by Conan Gray...\n",
      "Done.\n",
      "Searching for \"Bed Rest\" by Conan Gray...\n",
      "Done.\n"
     ]
    },
    {
     "name": "stderr",
     "output_type": "stream",
     "text": [
      "Processing artists:  66%|██████▌   | 33/50 [30:58<16:26, 58.01s/it]"
     ]
    },
    {
     "name": "stdout",
     "output_type": "stream",
     "text": [
      "Collecting top tracks for Charlie Puth...\n",
      "Searching for \"We Don't Talk Anymore (feat. Selena Gomez)\" by Charlie Puth...\n",
      "Done.\n",
      "Non-English lyrics for We Don't Talk Anymore (feat. Selena Gomez) by Charlie Puth, retrying with 'English' hint...\n",
      "Searching for \"We Don't Talk Anymore (feat. Selena Gomez) English\" by Charlie Puth...\n",
      "Done.\n",
      "Searching for \"See You Again (feat. Charlie Puth)\" by Charlie Puth...\n",
      "Done.\n",
      "Searching for \"Attention\" by Charlie Puth...\n",
      "Done.\n",
      "Searching for \"Left and Right (Feat. Jung Kook of BTS)\" by Charlie Puth...\n",
      "Done.\n",
      "Searching for \"One Call Away\" by Charlie Puth...\n",
      "Done.\n",
      "Searching for \"How Long\" by Charlie Puth...\n",
      "Done.\n",
      "Searching for \"Marvin Gaye (feat. Wale) - Remix\" by Charlie Puth...\n",
      "Done.\n",
      "Searching for \"Light Switch\" by Charlie Puth...\n",
      "Done.\n",
      "Searching for \"Cheating on You\" by Charlie Puth...\n",
      "Done.\n",
      "Searching for \"Dangerously\" by Charlie Puth...\n",
      "Done.\n"
     ]
    },
    {
     "name": "stderr",
     "output_type": "stream",
     "text": [
      "Processing artists:  68%|██████▊   | 34/50 [31:43<14:26, 54.18s/it]"
     ]
    },
    {
     "name": "stdout",
     "output_type": "stream",
     "text": [
      "Collecting top tracks for Marshmello...\n",
      "Searching for \"Happier\" by Marshmello...\n",
      "Done.\n",
      "Searching for \"Miles On It\" by Marshmello...\n",
      "Done.\n",
      "Searching for \"El Merengue\" by Marshmello...\n",
      "Done.\n",
      "Non-English lyrics for El Merengue by Marshmello, retrying with 'English' hint...\n",
      "Searching for \"El Merengue English\" by Marshmello...\n",
      "Done.\n",
      "Searching for \"Silence\" by Marshmello...\n",
      "Done.\n",
      "Searching for \"Leave Before You Love Me (with Jonas Brothers)\" by Marshmello...\n",
      "No results found for: 'Leave Before You Love Me (with Jonas Brothers) Marshmello'\n",
      "Searching for \"HARLEY QUINN\" by Marshmello...\n",
      "Done.\n",
      "Non-English lyrics for HARLEY QUINN by Marshmello, retrying with 'English' hint...\n",
      "Searching for \"HARLEY QUINN English\" by Marshmello...\n",
      "Done.\n",
      "Searching for \"Wolves\" by Marshmello...\n",
      "Done.\n",
      "Searching for \"Come & Go (with Marshmello)\" by Marshmello...\n",
      "No results found for: 'Come & Go (with Marshmello) Marshmello'\n",
      "Searching for \"FRIENDS\" by Marshmello...\n",
      "Done.\n",
      "Searching for \"Slow Motion\" by Marshmello...\n",
      "Done.\n"
     ]
    },
    {
     "name": "stderr",
     "output_type": "stream",
     "text": [
      "Processing artists:  70%|███████   | 35/50 [32:33<13:10, 52.73s/it]"
     ]
    },
    {
     "name": "stdout",
     "output_type": "stream",
     "text": [
      "Collecting top tracks for Anne-Marie...\n",
      "Searching for \"Rewrite The Stars (with James Arthur & Anne-Marie)\" by Anne-Marie...\n",
      "No results found for: 'Rewrite The Stars (with James Arthur & Anne-Marie) Anne-Marie'\n",
      "Searching for \"2002\" by Anne-Marie...\n",
      "Done.\n",
      "Searching for \"Baby Don't Hurt Me\" by Anne-Marie...\n",
      "Done.\n",
      "Searching for \"Rockabye (feat. Sean Paul & Anne-Marie)\" by Anne-Marie...\n",
      "Done.\n",
      "Non-English lyrics for Rockabye (feat. Sean Paul & Anne-Marie) by Anne-Marie, retrying with 'English' hint...\n",
      "Searching for \"Rockabye (feat. Sean Paul & Anne-Marie) English\" by Anne-Marie...\n",
      "Done.\n",
      "Searching for \"FRIENDS\" by Anne-Marie...\n",
      "Done.\n",
      "Searching for \"Cry Baby\" by Anne-Marie...\n",
      "Done.\n",
      "Searching for \"UNHEALTHY (feat. Shania Twain)\" by Anne-Marie...\n",
      "Done.\n",
      "Searching for \"Ciao Adios\" by Anne-Marie...\n",
      "Done.\n",
      "Searching for \"Our Song\" by Anne-Marie...\n",
      "Done.\n",
      "Searching for \"Alarm\" by Anne-Marie...\n",
      "Done.\n"
     ]
    },
    {
     "name": "stderr",
     "output_type": "stream",
     "text": [
      "Processing artists:  72%|███████▏  | 36/50 [33:23<12:07, 51.95s/it]"
     ]
    },
    {
     "name": "stdout",
     "output_type": "stream",
     "text": [
      "Collecting top tracks for Niall Horan...\n",
      "Searching for \"This Town\" by Niall Horan...\n",
      "Done.\n",
      "Searching for \"Slow Hands\" by Niall Horan...\n",
      "Done.\n",
      "Searching for \"Heaven\" by Niall Horan...\n",
      "Done.\n",
      "Searching for \"Moral of the Story (feat. Niall Horan) - Bonus Track\" by Niall Horan...\n",
      "No results found for: 'Moral of the Story (feat. Niall Horan) - Bonus Track Niall Horan'\n",
      "Searching for \"Put A Little Love On Me\" by Niall Horan...\n",
      "Done.\n",
      "Searching for \"Nice To Meet Ya\" by Niall Horan...\n",
      "Done.\n",
      "Searching for \"Too Much To Ask\" by Niall Horan...\n",
      "Done.\n",
      "Searching for \"Black And White\" by Niall Horan...\n",
      "Done.\n",
      "Searching for \"Our Song\" by Niall Horan...\n",
      "Done.\n",
      "Searching for \"Still\" by Niall Horan...\n",
      "Done.\n"
     ]
    },
    {
     "name": "stderr",
     "output_type": "stream",
     "text": [
      "Processing artists:  74%|███████▍  | 37/50 [34:12<11:03, 51.04s/it]"
     ]
    },
    {
     "name": "stdout",
     "output_type": "stream",
     "text": [
      "Collecting top tracks for Madison Beer...\n",
      "Searching for \"Make You Mine\" by Madison Beer...\n",
      "Done.\n",
      "Searching for \"Reckless\" by Madison Beer...\n",
      "Done.\n",
      "Searching for \"POP/STARS\" by Madison Beer...\n",
      "Done.\n",
      "Searching for \"VILLAIN\" by Madison Beer...\n",
      "Done.\n",
      "Searching for \"Good In Goodbye\" by Madison Beer...\n",
      "Done.\n",
      "Searching for \"MORE\" by Madison Beer...\n",
      "Done.\n",
      "Searching for \"All Day And Night\" by Madison Beer...\n",
      "Done.\n",
      "Searching for \"Selfish\" by Madison Beer...\n",
      "Done.\n",
      "Searching for \"15 MINUTES\" by Madison Beer...\n",
      "Done.\n",
      "Searching for \"Baby\" by Madison Beer...\n",
      "Done.\n"
     ]
    },
    {
     "name": "stderr",
     "output_type": "stream",
     "text": [
      "Processing artists:  76%|███████▌  | 38/50 [35:04<10:14, 51.22s/it]"
     ]
    },
    {
     "name": "stdout",
     "output_type": "stream",
     "text": [
      "Collecting top tracks for Ava Max...\n",
      "Searching for \"Whatever\" by Ava Max...\n",
      "Done.\n",
      "Searching for \"Forever Young\" by Ava Max...\n",
      "Done.\n",
      "Searching for \"Sweet but Psycho\" by Ava Max...\n",
      "Done.\n",
      "Searching for \"Kings & Queens\" by Ava Max...\n",
      "Done.\n",
      "Searching for \"The Motto\" by Ava Max...\n",
      "Done.\n",
      "Searching for \"Alone, Pt. II\" by Ava Max...\n",
      "Done.\n",
      "Searching for \"My Head & My Heart\" by Ava Max...\n",
      "Done.\n",
      "Searching for \"Into Your Arms (feat. Ava Max)\" by Ava Max...\n",
      "Done.\n",
      "Searching for \"So Am I\" by Ava Max...\n",
      "Done.\n",
      "Searching for \"Choose Your Fighter (From Barbie The Album)\" by Ava Max...\n",
      "No results found for: 'Choose Your Fighter (From Barbie The Album) Ava Max'\n"
     ]
    },
    {
     "name": "stderr",
     "output_type": "stream",
     "text": [
      "Processing artists:  78%|███████▊  | 39/50 [35:49<09:02, 49.36s/it]"
     ]
    },
    {
     "name": "stdout",
     "output_type": "stream",
     "text": [
      "Collecting top tracks for Lauren Spencer Smith...\n",
      "Searching for \"Fingers Crossed\" by Lauren Spencer Smith...\n",
      "Done.\n",
      "Searching for \"Flowers\" by Lauren Spencer Smith...\n",
      "Done.\n",
      "Searching for \"Pray\" by Lauren Spencer Smith...\n",
      "Done.\n",
      "Searching for \"That Part\" by Lauren Spencer Smith...\n",
      "Done.\n",
      "Searching for \"Bigger Person\" by Lauren Spencer Smith...\n",
      "Done.\n",
      "Searching for \"Narcissist\" by Lauren Spencer Smith...\n",
      "Done.\n",
      "Searching for \"All I Want\" by Lauren Spencer Smith...\n",
      "Done.\n",
      "Searching for \"Back to Friends\" by Lauren Spencer Smith...\n",
      "Done.\n",
      "Searching for \"small\" by Lauren Spencer Smith...\n",
      "Done.\n",
      "Searching for \"Best Friend Breakup\" by Lauren Spencer Smith...\n",
      "Done.\n"
     ]
    },
    {
     "name": "stderr",
     "output_type": "stream",
     "text": [
      "Processing artists:  80%|████████  | 40/50 [36:29<07:48, 46.82s/it]"
     ]
    },
    {
     "name": "stdout",
     "output_type": "stream",
     "text": [
      "Collecting top tracks for PinkPantheress...\n",
      "Searching for \"Pain\" by PinkPantheress...\n",
      "Done.\n",
      "Non-English lyrics for Pain by PinkPantheress, retrying with 'English' hint...\n",
      "Searching for \"Pain English\" by PinkPantheress...\n",
      "Done.\n",
      "Searching for \"Boy's a liar Pt. 2\" by PinkPantheress...\n",
      "Done.\n",
      "Searching for \"Tonight\" by PinkPantheress...\n",
      "Done.\n",
      "Searching for \"I Must Apologise\" by PinkPantheress...\n",
      "Done.\n",
      "Searching for \"Break It Off - Bonus\" by PinkPantheress...\n",
      "No results found for: 'Break It Off - Bonus PinkPantheress'\n",
      "Searching for \"Attracted to You\" by PinkPantheress...\n",
      "Done.\n",
      "Searching for \"Just for Me\" by PinkPantheress...\n",
      "Done.\n",
      "Searching for \"Snap My Finger (feat. PinkPantheress)\" by PinkPantheress...\n",
      "Done.\n",
      "Searching for \"Boy's a Liar\" by PinkPantheress...\n",
      "Done.\n",
      "Searching for \"Take Me Home\" by PinkPantheress...\n",
      "Done.\n"
     ]
    },
    {
     "name": "stderr",
     "output_type": "stream",
     "text": [
      "Processing artists:  82%|████████▏ | 41/50 [37:16<07:01, 46.88s/it]"
     ]
    },
    {
     "name": "stdout",
     "output_type": "stream",
     "text": [
      "Collecting top tracks for Bebe Rexha...\n",
      "Searching for \"I'm Good (Blue)\" by Bebe Rexha...\n",
      "Done.\n",
      "Searching for \"Me, Myself & I\" by Bebe Rexha...\n",
      "Done.\n",
      "Searching for \"In the Name of Love\" by Bebe Rexha...\n",
      "Done.\n",
      "Searching for \"Meant to Be (feat. Florida Georgia Line)\" by Bebe Rexha...\n",
      "Done.\n",
      "Searching for \"Say My Name\" by Bebe Rexha...\n",
      "Done.\n",
      "Searching for \"Home (with Machine Gun Kelly, X Ambassadors & Bebe Rexha)\" by Bebe Rexha...\n",
      "No results found for: 'Home (with Machine Gun Kelly, X Ambassadors & Bebe Rexha) Bebe Rexha'\n",
      "Searching for \"I'm a Mess\" by Bebe Rexha...\n",
      "Done.\n",
      "Searching for \"Deep In Your Love\" by Bebe Rexha...\n",
      "Done.\n",
      "Searching for \"One in a Million\" by Bebe Rexha...\n",
      "Done.\n",
      "Searching for \"Call You Mine\" by Bebe Rexha...\n",
      "Done.\n"
     ]
    },
    {
     "name": "stderr",
     "output_type": "stream",
     "text": [
      "Processing artists:  84%|████████▍ | 42/50 [38:02<06:12, 46.54s/it]"
     ]
    },
    {
     "name": "stdout",
     "output_type": "stream",
     "text": [
      "Collecting top tracks for Ellie Goulding...\n",
      "Searching for \"Outside (feat. Ellie Goulding)\" by Ellie Goulding...\n",
      "Done.\n",
      "Searching for \"Love Me Like You Do\" by Ellie Goulding...\n",
      "Done.\n",
      "Searching for \"Love Me Like You Do - From \"Fifty Shades Of Grey\"\" by Ellie Goulding...\n",
      "No results found for: 'Love Me Like You Do - From \"Fifty Shades Of Grey\" Ellie Goulding'\n",
      "Searching for \"Burn\" by Ellie Goulding...\n",
      "Done.\n",
      "Searching for \"Hate Me\" by Ellie Goulding...\n",
      "Done.\n",
      "Searching for \"Miracle (with Ellie Goulding)\" by Ellie Goulding...\n",
      "No results found for: 'Miracle (with Ellie Goulding) Ellie Goulding'\n",
      "Searching for \"Hypnotized (feat. Ellie Goulding)\" by Ellie Goulding...\n",
      "Done.\n",
      "Searching for \"I Need Your Love (feat. Ellie Goulding)\" by Ellie Goulding...\n",
      "Done.\n",
      "Searching for \"Lights\" by Ellie Goulding...\n",
      "Done.\n",
      "Searching for \"Still Falling For You - From \"Bridget Jones's Baby\"\" by Ellie Goulding...\n",
      "No results found for: 'Still Falling For You - From \"Bridget Jones's Baby\" Ellie Goulding'\n"
     ]
    },
    {
     "name": "stderr",
     "output_type": "stream",
     "text": [
      "Processing artists:  86%|████████▌ | 43/50 [38:47<05:21, 45.94s/it]"
     ]
    },
    {
     "name": "stdout",
     "output_type": "stream",
     "text": [
      "Collecting top tracks for Måneskin...\n",
      "Searching for \"Beggin'\" by Måneskin...\n",
      "Done.\n",
      "Searching for \"I WANNA BE YOUR SLAVE\" by Måneskin...\n",
      "Done.\n",
      "Searching for \"GOSSIP (feat. Tom Morello)\" by Måneskin...\n",
      "Done.\n",
      "Non-English lyrics for GOSSIP (feat. Tom Morello) by Måneskin, retrying with 'English' hint...\n",
      "Searching for \"GOSSIP (feat. Tom Morello) English\" by Måneskin...\n",
      "No results found for: 'GOSSIP (feat. Tom Morello) English Måneskin'\n",
      "Searching for \"THE LONELIEST\" by Måneskin...\n",
      "Done.\n",
      "Searching for \"ZITTI E BUONI\" by Måneskin...\n",
      "Done.\n",
      "Non-English lyrics for ZITTI E BUONI by Måneskin, retrying with 'English' hint...\n",
      "Searching for \"ZITTI E BUONI English\" by Måneskin...\n",
      "Done.\n",
      "Searching for \"BABY SAID\" by Måneskin...\n",
      "Done.\n",
      "Searching for \"SUPERMODEL\" by Måneskin...\n",
      "Done.\n",
      "Searching for \"HONEY (ARE U COMING?)\" by Måneskin...\n",
      "Done.\n",
      "Searching for \"MAMMAMIA\" by Måneskin...\n",
      "Done.\n",
      "Searching for \"CORALINE\" by Måneskin...\n",
      "Done.\n",
      "Non-English lyrics for CORALINE by Måneskin, retrying with 'English' hint...\n",
      "Searching for \"CORALINE English\" by Måneskin...\n",
      "Done.\n"
     ]
    },
    {
     "name": "stderr",
     "output_type": "stream",
     "text": [
      "Processing artists:  88%|████████▊ | 44/50 [39:40<04:49, 48.28s/it]"
     ]
    },
    {
     "name": "stdout",
     "output_type": "stream",
     "text": [
      "Collecting top tracks for BLACKPINK...\n",
      "Searching for \"Pink Venom\" by BLACKPINK...\n",
      "Done.\n",
      "Searching for \"Shut Down\" by BLACKPINK...\n",
      "Done.\n",
      "Searching for \"How You Like That\" by BLACKPINK...\n",
      "Done.\n",
      "Searching for \"Kill This Love\" by BLACKPINK...\n",
      "Done.\n",
      "Searching for \"As If It's Your Last\" by BLACKPINK...\n",
      "Done.\n",
      "Searching for \"DDU-DU DDU-DU\" by BLACKPINK...\n",
      "Done.\n",
      "Searching for \"Lovesick Girls\" by BLACKPINK...\n",
      "Done.\n",
      "Searching for \"BOOMBAYAH\" by BLACKPINK...\n",
      "Done.\n",
      "Non-English lyrics for BOOMBAYAH by BLACKPINK, retrying with 'English' hint...\n",
      "Searching for \"BOOMBAYAH English\" by BLACKPINK...\n",
      "Done.\n",
      "Searching for \"Pretty Savage\" by BLACKPINK...\n",
      "Done.\n",
      "Searching for \"Typa Girl\" by BLACKPINK...\n",
      "Done.\n"
     ]
    },
    {
     "name": "stderr",
     "output_type": "stream",
     "text": [
      "Processing artists:  90%|█████████ | 45/50 [40:46<04:27, 53.46s/it]"
     ]
    },
    {
     "name": "stdout",
     "output_type": "stream",
     "text": [
      "Collecting top tracks for Jung Kook...\n",
      "Searching for \"Seven (feat. Latto) (Explicit Ver.)\" by Jung Kook...\n",
      "Done.\n",
      "Searching for \"3D (feat. Jack Harlow)\" by Jung Kook...\n",
      "Done.\n",
      "Non-English lyrics for 3D (feat. Jack Harlow) by Jung Kook, retrying with 'English' hint...\n",
      "Searching for \"3D (feat. Jack Harlow) English\" by Jung Kook...\n",
      "Done.\n",
      "Searching for \"Standing Next to You\" by Jung Kook...\n",
      "Done.\n",
      "Searching for \"Still With You\" by Jung Kook...\n",
      "Done.\n",
      "Non-English lyrics for Still With You by Jung Kook, retrying with 'English' hint...\n",
      "Searching for \"Still With You English\" by Jung Kook...\n",
      "Done.\n",
      "Searching for \"Left and Right (Feat. Jung Kook of BTS)\" by Jung Kook...\n",
      "Done.\n",
      "Searching for \"Yes or No\" by Jung Kook...\n",
      "Done.\n",
      "Searching for \"i wonder... (with Jung Kook of BTS)\" by Jung Kook...\n",
      "No results found for: 'i wonder... (with Jung Kook of BTS) Jung Kook'\n",
      "Searching for \"Never Let Go\" by Jung Kook...\n",
      "Done.\n",
      "Searching for \"Please Don't Change (feat. DJ Snake)\" by Jung Kook...\n",
      "Done.\n",
      "Non-English lyrics for Please Don't Change (feat. DJ Snake) by Jung Kook, retrying with 'English' hint...\n",
      "Searching for \"Please Don't Change (feat. DJ Snake) English\" by Jung Kook...\n",
      "Done.\n",
      "Searching for \"Dreamers [Music from the FIFA World Cup Qatar 2022 Official Soundtrack]\" by Jung Kook...\n",
      "Done.\n"
     ]
    },
    {
     "name": "stderr",
     "output_type": "stream",
     "text": [
      "Processing artists:  92%|█████████▏| 46/50 [41:43<03:37, 54.50s/it]"
     ]
    },
    {
     "name": "stdout",
     "output_type": "stream",
     "text": [
      "Collecting top tracks for Lauv...\n",
      "Searching for \"I Like Me Better\" by Lauv...\n",
      "Done.\n",
      "Searching for \"Mean It\" by Lauv...\n",
      "Done.\n",
      "Searching for \"Steal The Show\" by Lauv...\n",
      "Done.\n",
      "Searching for \"Paris in the Rain\" by Lauv...\n",
      "Done.\n",
      "Searching for \"i'm so tired...\" by Lauv...\n",
      "Done.\n",
      "Searching for \"Never Not\" by Lauv...\n",
      "Done.\n",
      "Searching for \"Love U Like That\" by Lauv...\n",
      "Done.\n",
      "Searching for \"Who\" by Lauv...\n",
      "Done.\n",
      "Searching for \"All 4 Nothing (I'm So In Love)\" by Lauv...\n",
      "Done.\n",
      "Searching for \"Feelings\" by Lauv...\n",
      "Done.\n"
     ]
    },
    {
     "name": "stderr",
     "output_type": "stream",
     "text": [
      "Processing artists:  94%|█████████▍| 47/50 [42:32<02:38, 52.99s/it]"
     ]
    },
    {
     "name": "stdout",
     "output_type": "stream",
     "text": [
      "Collecting top tracks for Becky Hill...\n",
      "Searching for \"Remember (with David Guetta)\" by Becky Hill...\n",
      "No results found for: 'Remember (with David Guetta) Becky Hill'\n",
      "Searching for \"Crazy What Love Can Do\" by Becky Hill...\n",
      "Done.\n",
      "Searching for \"Lose Control\" by Becky Hill...\n",
      "Done.\n",
      "Searching for \"Disconnect\" by Becky Hill...\n",
      "Done.\n",
      "Searching for \"My Heart Goes (La Di Da) (feat. Topic)\" by Becky Hill...\n",
      "Done.\n",
      "Non-English lyrics for My Heart Goes (La Di Da) (feat. Topic) by Becky Hill, retrying with 'English' hint...\n",
      "Searching for \"My Heart Goes (La Di Da) (feat. Topic) English\" by Becky Hill...\n",
      "No results found for: 'My Heart Goes (La Di Da) (feat. Topic) English Becky Hill'\n",
      "Searching for \"Gecko (Overdrive) - Radio Edit\" by Becky Hill...\n",
      "Done.\n",
      "Searching for \"Afterglow\" by Becky Hill...\n",
      "No results found for: 'Afterglow Becky Hill'\n",
      "Searching for \"Surrender\" by Becky Hill...\n",
      "Done.\n",
      "Searching for \"Indestructible\" by Becky Hill...\n",
      "Done.\n",
      "Searching for \"Piece of Me\" by Becky Hill...\n",
      "Done.\n"
     ]
    },
    {
     "name": "stderr",
     "output_type": "stream",
     "text": [
      "Processing artists:  96%|█████████▌| 48/50 [43:09<01:36, 48.22s/it]"
     ]
    },
    {
     "name": "stdout",
     "output_type": "stream",
     "text": [
      "Collecting top tracks for Rina Sawayama...\n",
      "Searching for \"Beg for You (feat. Rina Sawayama)\" by Rina Sawayama...\n",
      "Done.\n",
      "Searching for \"XS\" by Rina Sawayama...\n",
      "Done.\n",
      "Searching for \"Comme Des Garçons (Like The Boys)\" by Rina Sawayama...\n",
      "Done.\n",
      "Searching for \"saving flowers\" by Rina Sawayama...\n",
      "Done.\n",
      "Searching for \"This Hell\" by Rina Sawayama...\n",
      "Done.\n",
      "Searching for \"Frankenstein\" by Rina Sawayama...\n",
      "Done.\n",
      "Searching for \"Eye For An Eye (Single from John Wick: Chapter 4 Original Motion Picture Soundtrack)\" by Rina Sawayama...\n",
      "No results found for: 'Eye For An Eye (Single from John Wick: Chapter 4 Original Motion Picture Soundtrack) Rina Sawayama'\n",
      "Searching for \"LUCID\" by Rina Sawayama...\n",
      "Done.\n",
      "Searching for \"Cherry\" by Rina Sawayama...\n",
      "Done.\n",
      "Searching for \"Hold The Girl\" by Rina Sawayama...\n",
      "Done.\n"
     ]
    },
    {
     "name": "stderr",
     "output_type": "stream",
     "text": [
      "Processing artists:  98%|█████████▊| 49/50 [43:58<00:48, 48.29s/it]"
     ]
    },
    {
     "name": "stdout",
     "output_type": "stream",
     "text": [
      "Collecting top tracks for Tove Lo...\n",
      "Searching for \"Habits (Stay High)\" by Tove Lo...\n",
      "Done.\n",
      "Searching for \"Talking Body\" by Tove Lo...\n",
      "Done.\n",
      "Searching for \"Stay High - Habits Remix\" by Tove Lo...\n",
      "Done.\n",
      "Searching for \"CAVE (with Tove Lo)\" by Tove Lo...\n",
      "No results found for: 'CAVE (with Tove Lo) Tove Lo'\n",
      "Searching for \"HEAT\" by Tove Lo...\n",
      "Done.\n",
      "Searching for \"Don't Say Goodbye (feat. Tove Lo)\" by Tove Lo...\n",
      "Done.\n",
      "Searching for \"Cool Girl\" by Tove Lo...\n",
      "Done.\n",
      "Searching for \"Pressure (feat. Tove Lo)\" by Tove Lo...\n",
      "Done.\n",
      "Searching for \"No One Dies From Love\" by Tove Lo...\n",
      "Done.\n",
      "Searching for \"disco tits\" by Tove Lo...\n",
      "Done.\n"
     ]
    },
    {
     "name": "stderr",
     "output_type": "stream",
     "text": [
      "Processing artists: 100%|██████████| 50/50 [44:42<00:00, 53.65s/it]"
     ]
    },
    {
     "name": "stdout",
     "output_type": "stream",
     "text": [
      "Data collection complete. Here's a preview:\n",
      "                      song_title                    artists release_date  \\\n",
      "0                   Cruel Summer               Taylor Swift   2019-08-23   \n",
      "1  Fortnight (feat. Post Malone)  Taylor Swift, Post Malone   2024-04-18   \n",
      "2                       cardigan               Taylor Swift   2020-07-24   \n",
      "3                          Lover               Taylor Swift   2019-08-23   \n",
      "4                         august               Taylor Swift   2020-07-24   \n",
      "\n",
      "   popularity  is_collaboration  duration_seconds              spotify_id  \\\n",
      "0          90             False           178.426  1BxfuPKGuaTgP7aM0Bbdwr   \n",
      "1          85              True           228.965  2OzhQlSqBEmt7hmkYxfT6m   \n",
      "2          85             False           239.560  4R2kfaDFhslZEMJqAFNpdd   \n",
      "3          86             False           221.306  1dGr1c8CrMLDpV6mPbImSI   \n",
      "4          85             False           261.922  3hUxzQpSfdDqwM3ZTFQY0K   \n",
      "\n",
      "                                              lyrics  \n",
      "0  (Yeah, yeah, yeah, yeah) Fever dream high in t...  \n",
      "1  I was supposed to be sent away But they forgot...  \n",
      "2  Vintage tee, brand new phone High heels on cob...  \n",
      "3  We could leave the Christmas lights up 'til Ja...  \n",
      "4  Salt air, and the rust on your door I never ne...  \n"
     ]
    },
    {
     "name": "stderr",
     "output_type": "stream",
     "text": [
      "\n"
     ]
    }
   ],
   "source": [
    "import spotipy\n",
    "from spotipy.oauth2 import SpotifyClientCredentials\n",
    "import lyricsgenius\n",
    "import pandas as pd\n",
    "import time\n",
    "from langdetect import detect\n",
    "from pop_artists import top_pop_artists\n",
    "from utils import clean_lyrics, get_english_lyrics\n",
    "from tqdm import tqdm\n",
    "\n",
    "\n",
    "# ------------------------------\n",
    "# Set up API Credentials\n",
    "# ------------------------------\n",
    "\n",
    "SPOTIFY_CLIENT_ID = \"1e9f17fbe8f84b3ebabe5d48603e6ffc\"\n",
    "SPOTIFY_CLIENT_SECRET = \"6f33b108987544418206cb70fd94d403\"\n",
    "GENIUS_ACCESS_TOKEN = \"tRFnVnQJ2Ltli7ANNbqLg3I_Ir2NX7TX_iS6L7ufNGWFldulVJjGOmYiVb5w_EDl\"\n",
    "\n",
    "# ------------------------------\n",
    "# Authenticate with Spotify & Genius\n",
    "# ------------------------------\n",
    "\n",
    "auth_manager = SpotifyClientCredentials(client_id=SPOTIFY_CLIENT_ID, client_secret=SPOTIFY_CLIENT_SECRET)\n",
    "sp = spotipy.Spotify(auth_manager=auth_manager)\n",
    "genius = lyricsgenius.Genius(GENIUS_ACCESS_TOKEN, timeout=15, retries=3)\n",
    "\n",
    "\n",
    "# ------------------------------\n",
    "# Data Collection from Spotify & Genius\n",
    "# ------------------------------\n",
    "\n",
    "data = []\n",
    "\n",
    "for artist_name in tqdm(top_pop_artists, desc=\"Processing artists\"):\n",
    "    artist_results = sp.search(q=f\"artist:{artist_name}\", type=\"artist\", limit=1)\n",
    "    if not artist_results['artists']['items']:\n",
    "        print(f\"Artist {artist_name} not found on Spotify.\")\n",
    "        continue\n",
    "\n",
    "    artist = artist_results['artists']['items'][0]\n",
    "    artist_id = artist['id']\n",
    "    print(f\"Collecting top tracks for {artist_name}...\")\n",
    "\n",
    "    top_tracks = sp.artist_top_tracks(artist_id, country='US')['tracks']\n",
    "\n",
    "    for track in top_tracks:\n",
    "        track_title = track['name']\n",
    "        track_artists = [a['name'] for a in track['artists']]\n",
    "        is_collaboration = len(track_artists) > 1\n",
    "        track_id = track['id']\n",
    "        track_duration = track['duration_ms'] / 1000\n",
    "        album_info = track['album']\n",
    "        release_date = album_info.get('release_date', 'Unknown')\n",
    "        popularity = track.get('popularity', 0)\n",
    "\n",
    "        lyrics = get_english_lyrics(track_title, artist_name, genius)\n",
    "        time.sleep(1)\n",
    "\n",
    "        data.append({\n",
    "            \"song_title\": track_title,\n",
    "            \"artists\": \", \".join(track_artists),\n",
    "            \"release_date\": release_date,\n",
    "            \"popularity\": popularity,\n",
    "            \"is_collaboration\": is_collaboration,\n",
    "            \"duration_seconds\": track_duration,\n",
    "            \"spotify_id\": track_id,\n",
    "            \"lyrics\": lyrics\n",
    "        })\n",
    "\n",
    "df = pd.DataFrame(data)\n",
    "print(\"Data collection complete. Here's a preview:\")\n",
    "print(df.head())"
   ]
  },
  {
   "cell_type": "code",
   "execution_count": 7,
   "id": "e0932dc0",
   "metadata": {},
   "outputs": [],
   "source": [
    "df.to_csv(\"spotify_genius_data.csv\", index=False)"
   ]
  }
 ],
 "metadata": {
  "kernelspec": {
   "display_name": "base",
   "language": "python",
   "name": "python3"
  },
  "language_info": {
   "codemirror_mode": {
    "name": "ipython",
    "version": 3
   },
   "file_extension": ".py",
   "mimetype": "text/x-python",
   "name": "python",
   "nbconvert_exporter": "python",
   "pygments_lexer": "ipython3",
   "version": "3.10.16"
  }
 },
 "nbformat": 4,
 "nbformat_minor": 5
}
