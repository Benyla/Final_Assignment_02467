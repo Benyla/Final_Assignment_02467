{
 "cells": [
  {
   "cell_type": "code",
   "execution_count": null,
   "id": "05a1601a",
   "metadata": {},
   "outputs": [],
   "source": [
    "import pandas as pd\n",
    "import itertools\n",
    "import networkx as nx\n",
    "from collections import Counter\n",
    "\n",
    "df_tracks = pd.read_csv(\"DATA/spotify_genius_data.csv\")\n",
    "\n",
    "G_artists = nx.Graph()\n",
    "artist_collab_counts = Counter()\n",
    "\n",
    "for artists_str in df_tracks[\"artists\"].dropna():\n",
    "    artists = [a.strip() for a in artists_str.split(\",\")]\n",
    "    for artist in artists:\n",
    "        G_artists.add_node(artist)\n",
    "    for a1, a2 in itertools.combinations(artists, 2):\n",
    "        pair = tuple(sorted((a1, a2)))\n",
    "        artist_collab_counts[pair] += 1\n",
    "\n",
    "\n",
    "G_artists.add_weighted_edges_from( # add edges with weights\n",
    "    [(a1, a2, w) for (a1, a2), w in artist_collab_counts.items()]\n",
    ")\n",
    "\n",
    "\n",
    "#############\n",
    "# Calculate average popularity and first release year for each artist\n",
    "pop_sum   = Counter()\n",
    "pop_count = Counter()\n",
    "first_release = {}\n",
    "\n",
    "for _, row in df_tracks.iterrows():\n",
    "    if pd.isna(row[\"artists\"]):\n",
    "        continue\n",
    "    artists = [a.strip() for a in row[\"artists\"].split(\",\")]\n",
    "    pop = row.get(\"popularity\", 0) or 0\n",
    "    try:\n",
    "        year = pd.to_datetime(row[\"release_date\"]).year\n",
    "    except:\n",
    "        year = None\n",
    "    for artist in artists:\n",
    "        pop_sum[artist]   += pop\n",
    "        pop_count[artist] += 1\n",
    "        if year and (artist not in first_release or year < first_release[artist]):\n",
    "            first_release[artist] = year\n",
    "avg_popularity = {\n",
    "    artist: pop_sum[artist] / pop_count[artist]\n",
    "    for artist in pop_sum\n",
    "}\n",
    "###############\n",
    "\n",
    "for artist in G_artists.nodes():\n",
    "    G_artists.nodes[artist][\"display_name\"] = artist\n",
    "    G_artists.nodes[artist][\"total_popularity\"] = avg_popularity.get(artist, 0)\n",
    "    G_artists.nodes[artist][\"first_release_year\"] = first_release.get(artist)\n",
    "    G_artists.nodes[artist][\"num_collaborations\"] = G_artists.degree(artist, weight=\"weight\")"
   ]
  },
  {
   "cell_type": "code",
   "execution_count": 2,
   "id": "2c1cb863",
   "metadata": {},
   "outputs": [
    {
     "ename": "AttributeError",
     "evalue": "module 'networkx' has no attribute 'info'",
     "output_type": "error",
     "traceback": [
      "\u001b[0;31m---------------------------------------------------------------------------\u001b[0m",
      "\u001b[0;31mAttributeError\u001b[0m                            Traceback (most recent call last)",
      "Cell \u001b[0;32mIn[2], line 1\u001b[0m\n\u001b[0;32m----> 1\u001b[0m \u001b[43mnx\u001b[49m\u001b[38;5;241;43m.\u001b[39;49m\u001b[43minfo\u001b[49m(G_artists)\n",
      "\u001b[0;31mAttributeError\u001b[0m: module 'networkx' has no attribute 'info'"
     ]
    }
   ],
   "source": [
    "nx.info(G_artists)"
   ]
  }
 ],
 "metadata": {
  "kernelspec": {
   "display_name": "base",
   "language": "python",
   "name": "python3"
  },
  "language_info": {
   "codemirror_mode": {
    "name": "ipython",
    "version": 3
   },
   "file_extension": ".py",
   "mimetype": "text/x-python",
   "name": "python",
   "nbconvert_exporter": "python",
   "pygments_lexer": "ipython3",
   "version": "3.10.16"
  }
 },
 "nbformat": 4,
 "nbformat_minor": 5
}
