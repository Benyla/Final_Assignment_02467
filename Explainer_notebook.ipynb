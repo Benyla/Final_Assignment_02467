{
 "cells": [
  {
   "cell_type": "markdown",
   "id": "e0825639",
   "metadata": {},
   "source": [
    "### !! BELOW IS AI WRITTEN - READ TROUGH AND MAKE HUMAN !!\n",
    "\n",
    "## Central Idea\n",
    "\n",
    "### Research Question\n",
    "**How are musical themes correlated with artist collaborations, and can we identify common thematic elements or trends emerging specifically from collaborative music pieces?**\n",
    "\n",
    "### Why is this interesting?\n",
    "Collaborative songs often blend different musical styles, genres, or lyrical themes. By analyzing these collaborations systematically, we can uncover unique patterns and trends that may not be evident in songs created by solo artists. \n",
    "\n",
    "Collaboration frequently serves as a catalyst for creative innovation, enabling artists to experiment beyond their typical stylistic boundaries. It can facilitate the exchange of ideas, lead to genre-crossing hits, and introduce audiences to new combinations of sounds and lyrical narratives. Identifying how themes shift or persist in collaborative contexts may also provide valuable insights into cultural influences, artistic interactions, and audience reception to musical innovation. \n",
    "\n",
    "Additionally, examining thematic patterns specifically arising from artist collaborations can help illuminate broader trends within the music industry, such as increasing genre fluidity, the impact of artist networks on creativity, and how collaborations may influence chart success or artist visibility.\n",
    "\n",
    "In short, this project aims to bridge the gap between lyrical analysis and network analysis, highlighting how artistic collaborations contribute to evolving musical expression and innovation.\n"
   ]
  },
  {
   "cell_type": "markdown",
   "id": "130bff0b",
   "metadata": {},
   "source": [
    "### What is your dataset?\n",
    "\n",
    "The dataset is a combination of data collected from two main sources: the **Spotify Web API** and the **Genius API**.\n",
    "\n",
    "- From the **Spotify API**, we retrieve metadata about songs and artists. This includes information such as:\n",
    "  - `Song title`\n",
    "  - `Primary and featured artists`\n",
    "  - `Release date`\n",
    "  - `Genres (inferred from artist)`\n",
    "  - `Popularity metrics (e.g., Spotify popularity score)`\n",
    "  - `Collaboration indicators (i.e., songs with multiple listed artists)`\n",
    "\n",
    "- From the **Genius API**, we collect the **lyrics** for each of the songs obtained from Spotify. This enables us to perform textual analysis and extract thematic elements from the song lyrics.\n",
    "\n",
    "The final dataset is constructed by merging Spotify metadata with corresponding Genius lyrics, resulting in a structured dataset where each row represents a song. Key variables include:\n",
    "- `title`\n",
    "- `artists`\n",
    "- `release_date`\n",
    "- `lyrics`\n",
    "- `genres`\n",
    "- `is_collaboration` (Boolean flag)\n",
    "\n",
    "This combined dataset allows us to analyze both the **network of artist collaborations** and the **thematic content of lyrics**, forming the foundation for both our network and text analyses.\n"
   ]
  }
 ],
 "metadata": {
  "language_info": {
   "name": "python"
  }
 },
 "nbformat": 4,
 "nbformat_minor": 5
}
