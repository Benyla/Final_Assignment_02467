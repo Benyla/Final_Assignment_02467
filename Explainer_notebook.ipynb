{
 "cells": [
  {
   "cell_type": "markdown",
   "id": "36da35cf",
   "metadata": {},
   "source": [
    "<h3 style=\"color:green;\">Project Links</h3>\n",
    "\n",
    "*Links only work directly from the explainer notebook, not from the rendering on the website.*\n",
    "\n",
    "\n",
    "- **Website:** [LINK](https://benyla.github.io/Final_Assignment_02467/?fbclid=IwY2xjawKTLkNleHRuA2FlbQIxMABicmlkETFlTVVLcENlUW00eXBkRkVuAR7dN0ln5uSLceqbRtBeUcwPPyXaZ6pJZjzQFaPgPLda1fCaD6ckC7ZmL1WMuQ_aem_o8x9D4XxpWmNfBKfa2tpcQ)\n",
    "- **GitHub:** [LINK](https://github.com/Benyla/Final_Assignment_02467)\n",
    "\n",
    "<h3 style=\"color:green;\">Contributions</h3>\n",
    "\n",
    "- **Bertram**: Data collection, data preprocessing, and website\n",
    "- **Gardner**: Network, network analysis, and lead on explainer notebook\n",
    "- **Ingrid**: Text (lyrics) analysis and visualisations\n"
   ]
  },
  {
   "cell_type": "markdown",
   "id": "eae0a65e",
   "metadata": {},
   "source": [
    "<hr style=\"border: 2px solid green;\">"
   ]
  },
  {
   "cell_type": "markdown",
   "id": "e0825639",
   "metadata": {},
   "source": [
    "## Central Idea\n",
    "\n",
    "### Research Question\n",
    "**How are musical themes correlated with artist collaborations, and can we identify common thematic elements or trends emerging specifically from collaborative music pieces?**\n",
    "\n",
    "### Why is this interesting?\n",
    "Collaborative songs often incorporate different musical styles, genres, or lyrical themes stemming from the habits or niches occupied by the individual contributors. By representing these collaborations as a network, we can uncover unique patterns and trends that may not be evident by simply looking through on a case-by-case basis. \n",
    "\n",
    "Collaboration frequently results in creative innovation stemming from the interaction of diverse groups, enabling artists to experiment beyond their typical stylistic boundaries. It can facilitate the exchange of ideas, lead to genre-crossing hits, and introduce audiences to new combinations of sounds and lyrical styles. Identifying how themes shift or persist in collaborative contexts may also provide valuable insights into cultural influences, artistic interactions, and audience reception to musical innovation. \n",
    "\n",
    "Additionally, examining thematic patterns specifically arising from artist collaborations can help illuminate broader trends within the music industry, such as increasing genre fluidity, the impact of artist networks on creativity, and how collaborations may influence chart success or artist visibility.\n",
    "\n",
    "In short, this project aims to bridge the gap between lyrical analysis and network analysis, highlighting how artistic collaborations contribute to evolving musical expression and innovation.\n"
   ]
  },
  {
   "cell_type": "markdown",
   "id": "7295928f",
   "metadata": {},
   "source": [
    "<hr style=\"border: 2px solid green;\">\n"
   ]
  },
  {
   "cell_type": "markdown",
   "id": "130bff0b",
   "metadata": {},
   "source": [
    "### What is your dataset?\n",
    "\n",
    "The dataset is a combination of data collected from two main sources: the **Spotify Web API** and the **Genius API**.\n",
    "\n",
    "- From the **Spotify API**, we retrieve metadata about songs and artists. This includes information such as:\n",
    "  - `Song title`\n",
    "  - `Primary and featured artists`\n",
    "  - `Release date`\n",
    "  - `Genres (inferred from artist)`\n",
    "  - `Popularity metrics (e.g., Spotify popularity score)`\n",
    "  - `Collaboration indicators (i.e., songs with multiple listed artists)`\n",
    "\n",
    "- From the **Genius API**, we collect the **lyrics** for each of the songs obtained from Spotify. This enables us to perform textual analysis and extract thematic elements from the song lyrics.\n",
    "\n",
    "The final dataset is constructed by merging Spotify metadata with corresponding Genius lyrics, resulting in a structured dataset where each row represents a song. Key variables include:\n",
    "\n",
    "- `primary_artist`\n",
    "- `song_title`\n",
    "- `artists`\n",
    "- `release_date`\n",
    "- `popularity`\n",
    "- `is_collaboration` (Boolean flag)\n",
    "- `duration_seconds`\n",
    "- `spotify_id`\n",
    "- `lyrics`\n",
    "\n",
    "This combined dataset allows us to analyze both the **network of artist collaborations** and the **thematic content of lyrics**, forming the foundation for both our network and text analyses.\n"
   ]
  },
  {
   "cell_type": "markdown",
   "id": "ca28e2d9",
   "metadata": {},
   "source": [
    "### Preprocessing ###\n",
    "\n",
    "The data from the Spotify API was fortunately provided in a very clean format, requiring minimal preprocessing. However, the lyrics obtained from the Genius API needed significant cleaning. We primarily removed the initial section of the returned lyrics, which contained contributor information and other metadata. Additionally, the lyrics included \\n characters to indicate new lines, which we removed. We also eliminated annotations indicating which artist sang specific parts of the song, in cases where the track was a collaboration between multiple artists.\n",
    "\n",
    "### Dataset statistics ###\n",
    "\n",
    "The data added up to about 10MB. The network contains 418 unique artists representing the nodes, and 696 unique collaborations. The average degree of the network came to 4.5, and was quite sparse, only having a density score of 0.008"
   ]
  },
  {
   "cell_type": "markdown",
   "id": "6ef12c92",
   "metadata": {},
   "source": [
    "<hr style=\"border: 2px solid green;\">"
   ]
  },
  {
   "cell_type": "markdown",
   "id": "5ef1eab1",
   "metadata": {
    "vscode": {
     "languageId": "plaintext"
    }
   },
   "source": [
    "### Why did you choose it? ###\n",
    "\n",
    "This dataset showed large amounts of promise for providing key insights into the inner workings of artistic culture and collaboration. Our group are all passionate about pop music and were excited for the opportunity to explore the motives and mechanisms of the musical ecosystem.\n",
    "\n",
    "### What is your goal for the end-user experience? ###\n",
    "\n",
    "The website presents a viewpoint into sub-divisions between the top 50 artists in the english-speaking world right now. The ultimate aim is to educate the audience on the way in which sentiment varies between stylistic groups, showing where both like-minded individuals working together can result in something completely different, and how blending between different subgroups often ends up following the main artist's stylistic preference. "
   ]
  },
  {
   "cell_type": "markdown",
   "id": "e09487e6",
   "metadata": {},
   "source": [
    "<hr style=\"border: 2px solid green;\">"
   ]
  },
  {
   "cell_type": "markdown",
   "id": "b9182500",
   "metadata": {},
   "source": [
    "### Text work and network analysis ###\n",
    "\n",
    "In terms of text, the source used were the lyrics in order to provide sentiment analysis to attribute to each composer, and provide a better understanding of the average sentiment of each community identified through the collaboration graph. Word clouds were created using TF-IDF, identifying unique words overrepresented in each communities song contents. From this it becomes clear that Community 0 is rap. After further sentiment analysis, using a pretrained model, the following observations were made:\n",
    " - Community 0 consisted of mainly rap artists and word content. This group presented with more negative sentiment\n",
    "\n",
    " - Both Community 1 and 2 consisted of mainly pop artists and word content, however upon inspection of sentiment analysis, Community 1 appears to be more melancholic pop, while community 2 represents more happy and uplifting pop\n",
    " \n",
    " - From the sentiment-over-time analysis of each group, interestingly all groups followed similar oscillatory patterns, with highs existing around 2007 and 2015, and lows around 2010, 2020 (most likely due to covid), and again in 2024.\n"
   ]
  },
  {
   "cell_type": "markdown",
   "id": "22722e2d",
   "metadata": {},
   "source": [
    "<hr style=\"border: 2px solid green;\">\n"
   ]
  },
  {
   "cell_type": "markdown",
   "id": "336af01f",
   "metadata": {},
   "source": [
    "## Discussion ###\n",
    "\n",
    "### What went well ####\n",
    "\n",
    "Overall, the network coupled with text analysis was very informative about the different cultures existing within popular music. It highlighted the tendency of artists to form \"creative cliques\" and how indicative these cliques were of the content and sentiment of each collaborators songs. Furthermore, the fluctuation of sentiment over time was extremely interesting, showing an accurate portrayal of recent significant worldwide phenomena. \n",
    "\n",
    "### Future Improvements ####\n",
    "\n",
    "Given enough time, it would have been interesting to include more artists in the overall dataset, providing a more detailed and comprehensive perspective of differences in sentiment and word content between subgroups of artists within popular music. Furthermore, the incorporation of the sentiment data into the graph visualisation, potentially through colour coding or other means. We could have further taken advantage of the metadata that indicated which artist sang which parts of a track, in the case of a collaboration. This would likely have led to more precise sentiment analysis, as the current implementation assigns the overall sentiment of the entire song to all contributors, regardless of which parts they performed. Overall we were proud with the final product, and feel that it adequately illustrates the dedicated team of students behind the project."
   ]
  },
  {
   "cell_type": "markdown",
   "id": "ba9d5539",
   "metadata": {},
   "source": [
    "<hr style=\"border: 2px solid green;\">"
   ]
  },
  {
   "cell_type": "markdown",
   "id": "cc33e4dc",
   "metadata": {},
   "source": [
    "### CODE ###\n",
    "\n",
    "All the code for this project can be found in the Git repository. Two files are particularly important: network.ipynb, which is used to create the network from the raw data, compute basic statistics, detect communities, and visualize them; and lyrics_analysis.ipynb, which is used to create word clouds and other illustrations. Tokenizing the lyrics was done in Tokenize_data.py. We also provide utils.py, which contains helper functions for collecting the data.\n",
    "\n"
   ]
  }
 ],
 "metadata": {
  "language_info": {
   "name": "python"
  }
 },
 "nbformat": 4,
 "nbformat_minor": 5
}
